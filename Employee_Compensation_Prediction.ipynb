{
  "nbformat": 4,
  "nbformat_minor": 0,
  "metadata": {
    "accelerator": "GPU",
    "colab": {
      "name": "Employee_Compensation_Prediction.ipynb",
      "provenance": []
    },
    "kernelspec": {
      "display_name": "Python 3",
      "name": "python3"
    },
    "language_info": {
      "name": "python"
    }
  },
  "cells": [
    {
      "cell_type": "code",
      "metadata": {
        "id": "pt7uuafEdxhT"
      },
      "source": [
        "from google.colab import drive\n",
        "drive.mount('/content/gdrive')"
      ],
      "execution_count": null,
      "outputs": []
    },
    {
      "cell_type": "code",
      "metadata": {
        "colab": {
          "base_uri": "https://localhost:8080/"
        },
        "id": "Nq1uxaPPeKCK",
        "outputId": "d6a1701b-69bc-4a63-ffb7-94d0b3256777"
      },
      "source": [
        "  cd 'MyDrive/'"
      ],
      "execution_count": null,
      "outputs": [
        {
          "output_type": "stream",
          "text": [
            "/content/gdrive/MyDrive\n"
          ],
          "name": "stdout"
        }
      ]
    },
    {
      "cell_type": "code",
      "metadata": {
        "colab": {
          "base_uri": "https://localhost:8080/"
        },
        "id": "rcuG8y8AeOUx",
        "outputId": "e57fa3f5-8e7e-4627-95e9-055a56cee04f"
      },
      "source": [
        "ls"
      ],
      "execution_count": null,
      "outputs": [
        {
          "output_type": "stream",
          "text": [
            "\u001b[0m\u001b[01;34m'Colab Notebooks'\u001b[0m/    sub1.csv   sub3.csv   sub.csv        train_set.csv\n",
            " \u001b[01;34mpneumonia_dataset\u001b[0m/   sub2.csv   sub4.csv   test_set.csv\n"
          ],
          "name": "stdout"
        }
      ]
    },
    {
      "cell_type": "code",
      "metadata": {
        "id": "xQ2wU9gKebR3"
      },
      "source": [
        "import numpy as np\n",
        "import pandas as pd\n",
        "import matplotlib.pyplot as plt\n",
        "import seaborn as sns"
      ],
      "execution_count": null,
      "outputs": []
    },
    {
      "cell_type": "markdown",
      "metadata": {
        "id": "MEv5GhoHsfbz"
      },
      "source": [
        "# **Dataset Preparation** "
      ]
    },
    {
      "cell_type": "code",
      "metadata": {
        "colab": {
          "base_uri": "https://localhost:8080/",
          "height": 411
        },
        "id": "TP8o8RyNeVnv",
        "outputId": "b0b7d6ad-4381-4ee9-af52-1d9e203eb0f6"
      },
      "source": [
        "data1 = pd.read_csv(\"train_set.csv\")\n",
        "data1.head()"
      ],
      "execution_count": null,
      "outputs": [
        {
          "output_type": "execute_result",
          "data": {
            "text/html": [
              "<div>\n",
              "<style scoped>\n",
              "    .dataframe tbody tr th:only-of-type {\n",
              "        vertical-align: middle;\n",
              "    }\n",
              "\n",
              "    .dataframe tbody tr th {\n",
              "        vertical-align: top;\n",
              "    }\n",
              "\n",
              "    .dataframe thead th {\n",
              "        text-align: right;\n",
              "    }\n",
              "</style>\n",
              "<table border=\"1\" class=\"dataframe\">\n",
              "  <thead>\n",
              "    <tr style=\"text-align: right;\">\n",
              "      <th></th>\n",
              "      <th>Year</th>\n",
              "      <th>OGC</th>\n",
              "      <th>OG</th>\n",
              "      <th>DC</th>\n",
              "      <th>Dept</th>\n",
              "      <th>UC</th>\n",
              "      <th>Union</th>\n",
              "      <th>JF</th>\n",
              "      <th>Job</th>\n",
              "      <th>EI</th>\n",
              "      <th>Salaries</th>\n",
              "      <th>Overtime</th>\n",
              "      <th>H/D</th>\n",
              "      <th>YT</th>\n",
              "      <th>Total_Compensation</th>\n",
              "    </tr>\n",
              "  </thead>\n",
              "  <tbody>\n",
              "    <tr>\n",
              "      <th>0</th>\n",
              "      <td>2015</td>\n",
              "      <td>4</td>\n",
              "      <td>Community Health</td>\n",
              "      <td>DPH</td>\n",
              "      <td>Public Health</td>\n",
              "      <td>250</td>\n",
              "      <td>SEIU - Health Workers, Local 1021</td>\n",
              "      <td>Med Therapy &amp; Auxiliary</td>\n",
              "      <td>Morgue Attendant</td>\n",
              "      <td>6725</td>\n",
              "      <td>12196</td>\n",
              "      <td>0</td>\n",
              "      <td>0.00</td>\n",
              "      <td>Calendar</td>\n",
              "      <td>16158</td>\n",
              "    </tr>\n",
              "    <tr>\n",
              "      <th>1</th>\n",
              "      <td>2013</td>\n",
              "      <td>4</td>\n",
              "      <td>Community Health</td>\n",
              "      <td>DPH</td>\n",
              "      <td>Public Health</td>\n",
              "      <td>39</td>\n",
              "      <td>Stationary Engineers, Local 39</td>\n",
              "      <td>Journeyman Trade</td>\n",
              "      <td>Stationary Engineer</td>\n",
              "      <td>25058</td>\n",
              "      <td>74639</td>\n",
              "      <td>2820</td>\n",
              "      <td>12703.31</td>\n",
              "      <td>Fiscal</td>\n",
              "      <td>115784</td>\n",
              "    </tr>\n",
              "    <tr>\n",
              "      <th>2</th>\n",
              "      <td>2015</td>\n",
              "      <td>6</td>\n",
              "      <td>General Administration &amp; Finance</td>\n",
              "      <td>ASR</td>\n",
              "      <td>Assessor/Recorder</td>\n",
              "      <td>21</td>\n",
              "      <td>Prof &amp; Tech Engineers - Miscellaneous, Local 21</td>\n",
              "      <td>Appraisal &amp; Taxation</td>\n",
              "      <td>Senior Real Property Appraiser</td>\n",
              "      <td>46108</td>\n",
              "      <td>100554</td>\n",
              "      <td>0</td>\n",
              "      <td>12424.50</td>\n",
              "      <td>Calendar</td>\n",
              "      <td>144708</td>\n",
              "    </tr>\n",
              "    <tr>\n",
              "      <th>3</th>\n",
              "      <td>2016</td>\n",
              "      <td>1</td>\n",
              "      <td>Public Protection</td>\n",
              "      <td>POL</td>\n",
              "      <td>Police</td>\n",
              "      <td>911</td>\n",
              "      <td>Police Officers' Association</td>\n",
              "      <td>Police Services</td>\n",
              "      <td>Sergeant 3</td>\n",
              "      <td>33369</td>\n",
              "      <td>140164</td>\n",
              "      <td>52754</td>\n",
              "      <td>13043.87</td>\n",
              "      <td>Fiscal</td>\n",
              "      <td>242323</td>\n",
              "    </tr>\n",
              "    <tr>\n",
              "      <th>4</th>\n",
              "      <td>2013</td>\n",
              "      <td>2</td>\n",
              "      <td>Public Works, Transportation &amp; Commerce</td>\n",
              "      <td>HHP</td>\n",
              "      <td>PUC Hetch Hetchy</td>\n",
              "      <td>21</td>\n",
              "      <td>Prof &amp; Tech Engineers - Miscellaneous, Local 21</td>\n",
              "      <td>Information Systems</td>\n",
              "      <td>IS Engineer-Journey</td>\n",
              "      <td>28684</td>\n",
              "      <td>58813</td>\n",
              "      <td>0</td>\n",
              "      <td>7655.28</td>\n",
              "      <td>Calendar</td>\n",
              "      <td>82106</td>\n",
              "    </tr>\n",
              "  </tbody>\n",
              "</table>\n",
              "</div>"
            ],
            "text/plain": [
              "   Year  OGC  ...        YT Total_Compensation\n",
              "0  2015    4  ...  Calendar              16158\n",
              "1  2013    4  ...    Fiscal             115784\n",
              "2  2015    6  ...  Calendar             144708\n",
              "3  2016    1  ...    Fiscal             242323\n",
              "4  2013    2  ...  Calendar              82106\n",
              "\n",
              "[5 rows x 15 columns]"
            ]
          },
          "metadata": {
            "tags": []
          },
          "execution_count": 6
        }
      ]
    },
    {
      "cell_type": "code",
      "metadata": {
        "colab": {
          "base_uri": "https://localhost:8080/"
        },
        "id": "bii1v90ueaK5",
        "outputId": "3e841379-4c1c-4f1f-ee66-247722537905"
      },
      "source": [
        "data1.isnull().sum()"
      ],
      "execution_count": null,
      "outputs": [
        {
          "output_type": "execute_result",
          "data": {
            "text/plain": [
              "Year                   0\n",
              "OGC                    0\n",
              "OG                     0\n",
              "DC                     0\n",
              "Dept                   0\n",
              "UC                     0\n",
              "Union                 36\n",
              "JF                    38\n",
              "Job                    0\n",
              "EI                     0\n",
              "Salaries               0\n",
              "Overtime               0\n",
              "H/D                    0\n",
              "YT                     0\n",
              "Total_Compensation     0\n",
              "dtype: int64"
            ]
          },
          "metadata": {
            "tags": []
          },
          "execution_count": 7
        }
      ]
    },
    {
      "cell_type": "code",
      "metadata": {
        "id": "1Id8tvp6jL-G"
      },
      "source": [
        "data2 = data1.copy()\n",
        "data2 = data2.dropna()\n",
        "#data2.head()"
      ],
      "execution_count": null,
      "outputs": []
    },
    {
      "cell_type": "markdown",
      "metadata": {
        "id": "HbCVvRKLtBab"
      },
      "source": [
        "# **Feature Transformation**"
      ]
    },
    {
      "cell_type": "markdown",
      "metadata": {
        "id": "JFEm3ftYuyqT"
      },
      "source": [
        "# **Continuous Variable**"
      ]
    },
    {
      "cell_type": "markdown",
      "metadata": {
        "id": "lC8IsgR8ixql"
      },
      "source": [
        "# **1. Salaries**"
      ]
    },
    {
      "cell_type": "code",
      "metadata": {
        "colab": {
          "base_uri": "https://localhost:8080/",
          "height": 361
        },
        "id": "rKWhXr4efy11",
        "outputId": "c7a4fc6e-d881-4582-98a4-22afd22f21b9"
      },
      "source": [
        "sns.distplot(data2['Salaries'])"
      ],
      "execution_count": null,
      "outputs": [
        {
          "output_type": "stream",
          "text": [
            "/usr/local/lib/python3.7/dist-packages/seaborn/distributions.py:2557: FutureWarning: `distplot` is a deprecated function and will be removed in a future version. Please adapt your code to use either `displot` (a figure-level function with similar flexibility) or `histplot` (an axes-level function for histograms).\n",
            "  warnings.warn(msg, FutureWarning)\n"
          ],
          "name": "stderr"
        },
        {
          "output_type": "execute_result",
          "data": {
            "text/plain": [
              "<matplotlib.axes._subplots.AxesSubplot at 0x7f95e456ffd0>"
            ]
          },
          "metadata": {
            "tags": []
          },
          "execution_count": 10
        },
        {
          "output_type": "display_data",
          "data": {
            "image/png": "[encoded data removed]",
            "text/plain": [
              "<Figure size 432x288 with 1 Axes>"
            ]
          },
          "metadata": {
            "tags": []
          }
        }
      ]
    },
    {
      "cell_type": "code",
      "metadata": {
        "id": "LstVR4WTiDoH"
      },
      "source": [
        ""
      ],
      "execution_count": null,
      "outputs": []
    },
    {
      "cell_type": "code",
      "metadata": {
        "colab": {
          "base_uri": "https://localhost:8080/",
          "height": 350
        },
        "id": "0r5zqOJtjXpR",
        "outputId": "69558a09-78b3-4b80-a2db-f9935a0f24a9"
      },
      "source": [
        "sns.boxplot(data2['Salaries'])"
      ],
      "execution_count": null,
      "outputs": [
        {
          "output_type": "stream",
          "text": [
            "/usr/local/lib/python3.7/dist-packages/seaborn/_decorators.py:43: FutureWarning: Pass the following variable as a keyword arg: x. From version 0.12, the only valid positional argument will be `data`, and passing other arguments without an explicit keyword will result in an error or misinterpretation.\n",
            "  FutureWarning\n"
          ],
          "name": "stderr"
        },
        {
          "output_type": "execute_result",
          "data": {
            "text/plain": [
              "<matplotlib.axes._subplots.AxesSubplot at 0x7f95d973f710>"
            ]
          },
          "metadata": {
            "tags": []
          },
          "execution_count": 11
        },
        {
          "output_type": "display_data",
          "data": {
            "image/png": "[encoded data removed]",
            "text/plain": [
              "<Figure size 432x288 with 1 Axes>"
            ]
          },
          "metadata": {
            "tags": []
          }
        }
      ]
    },
    {
      "cell_type": "code",
      "metadata": {
        "id": "Y40XR89OjFn1"
      },
      "source": [
        "from sklearn.preprocessing import FunctionTransformer\n",
        "transformer = FunctionTransformer(np.cbrt)\n",
        "data2['Salaries'] = transformer.transform(data2['Salaries'])"
      ],
      "execution_count": null,
      "outputs": []
    },
    {
      "cell_type": "code",
      "metadata": {
        "colab": {
          "base_uri": "https://localhost:8080/"
        },
        "id": "9aZZFBddjqMJ",
        "outputId": "9ecddd7c-bbdf-4dc7-a967-aa02aa87b8da"
      },
      "source": [
        "q1 = 28.609612\n",
        "q3 = 45.307523\n",
        "i = 0\n",
        "a = q1-1*(q3-q1)\n",
        "b = q3+1*(q3-q1)\n",
        "j = 0\n",
        "print(len(data2))\n",
        "index1 = data2[(data2['Salaries'] <= a) | (data2['Salaries'] >= b)].index\n",
        "print(len(index1))\n",
        "#print(len(data2))\n",
        "data2 = data2.drop(index1)\n",
        "# while(i<len(data2['Salaries'])):\n",
        "#   if(data2['Salaries'][i] > b or data2['Salaries'][i] < a):\n",
        "#     data2.drop(data2.index[j])\n",
        "#   else:\n",
        "#     i+=1\n",
        "#   j+=1"
      ],
      "execution_count": null,
      "outputs": [
        {
          "output_type": "stream",
          "text": [
            "287798\n",
            "14775\n"
          ],
          "name": "stdout"
        }
      ]
    },
    {
      "cell_type": "code",
      "metadata": {
        "colab": {
          "base_uri": "https://localhost:8080/",
          "height": 350
        },
        "id": "m-JJYrcHlT6w",
        "outputId": "3b09d3eb-6a41-44ac-8612-4f876ecb0499"
      },
      "source": [
        "sns.boxplot(data2['Salaries'])"
      ],
      "execution_count": null,
      "outputs": [
        {
          "output_type": "stream",
          "text": [
            "/usr/local/lib/python3.7/dist-packages/seaborn/_decorators.py:43: FutureWarning: Pass the following variable as a keyword arg: x. From version 0.12, the only valid positional argument will be `data`, and passing other arguments without an explicit keyword will result in an error or misinterpretation.\n",
            "  FutureWarning\n"
          ],
          "name": "stderr"
        },
        {
          "output_type": "execute_result",
          "data": {
            "text/plain": [
              "<matplotlib.axes._subplots.AxesSubplot at 0x7f95d9729910>"
            ]
          },
          "metadata": {
            "tags": []
          },
          "execution_count": 14
        },
        {
          "output_type": "display_data",
          "data": {
            "image/png": "[encoded data removed]",
            "text/plain": [
              "<Figure size 432x288 with 1 Axes>"
            ]
          },
          "metadata": {
            "tags": []
          }
        }
      ]
    },
    {
      "cell_type": "markdown",
      "metadata": {
        "id": "SJ_FPR-21kZz"
      },
      "source": [
        "# **2. OVERTIME**"
      ]
    },
    {
      "cell_type": "code",
      "metadata": {
        "colab": {
          "base_uri": "https://localhost:8080/",
          "height": 350
        },
        "id": "Vg8ok4JWjnV9",
        "outputId": "357f3dbf-8555-4ed6-96d0-f1b26491725b"
      },
      "source": [
        "sns.distplot(data2['Overtime'])"
      ],
      "execution_count": null,
      "outputs": [
        {
          "output_type": "stream",
          "text": [
            "/usr/local/lib/python3.7/dist-packages/seaborn/distributions.py:2557: FutureWarning: `distplot` is a deprecated function and will be removed in a future version. Please adapt your code to use either `displot` (a figure-level function with similar flexibility) or `histplot` (an axes-level function for histograms).\n",
            "  warnings.warn(msg, FutureWarning)\n"
          ],
          "name": "stderr"
        },
        {
          "output_type": "execute_result",
          "data": {
            "text/plain": [
              "<matplotlib.axes._subplots.AxesSubplot at 0x7f95e44cf850>"
            ]
          },
          "metadata": {
            "tags": []
          },
          "execution_count": 15
        },
        {
          "output_type": "display_data",
          "data": {
            "image/png": "[encoded data removed]",
            "text/plain": [
              "<Figure size 432x288 with 1 Axes>"
            ]
          },
          "metadata": {
            "tags": []
          }
        }
      ]
    },
    {
      "cell_type": "code",
      "metadata": {
        "colab": {
          "base_uri": "https://localhost:8080/",
          "height": 350
        },
        "id": "Cr5-LAvTmWwy",
        "outputId": "d65e0b3f-6de3-472f-cdb9-eacebf3fc6b9"
      },
      "source": [
        "sns.boxplot(data2['Overtime'])"
      ],
      "execution_count": null,
      "outputs": [
        {
          "output_type": "stream",
          "text": [
            "/usr/local/lib/python3.7/dist-packages/seaborn/_decorators.py:43: FutureWarning: Pass the following variable as a keyword arg: x. From version 0.12, the only valid positional argument will be `data`, and passing other arguments without an explicit keyword will result in an error or misinterpretation.\n",
            "  FutureWarning\n"
          ],
          "name": "stderr"
        },
        {
          "output_type": "execute_result",
          "data": {
            "text/plain": [
              "<matplotlib.axes._subplots.AxesSubplot at 0x7f95d826dd90>"
            ]
          },
          "metadata": {
            "tags": []
          },
          "execution_count": 16
        },
        {
          "output_type": "display_data",
          "data": {
            "image/png": "[encoded data removed]",
            "text/plain": [
              "<Figure size 432x288 with 1 Axes>"
            ]
          },
          "metadata": {
            "tags": []
          }
        }
      ]
    },
    {
      "cell_type": "code",
      "metadata": {
        "id": "b9i3dDT4z9tJ"
      },
      "source": [
        "from sklearn.preprocessing import FunctionTransformer\n",
        "transformer = FunctionTransformer(np.cbrt)\n",
        "data2['Overtime'] = transformer.transform(data2['Overtime'])"
      ],
      "execution_count": null,
      "outputs": []
    },
    {
      "cell_type": "code",
      "metadata": {
        "colab": {
          "base_uri": "https://localhost:8080/"
        },
        "id": "x0rwqyUl0Uvv",
        "outputId": "51eb4151-4bed-44e8-9023-7c5c07a0d0bd"
      },
      "source": [
        "q1 = 0\n",
        "q3 = 14.744564\n",
        "i = 0\n",
        "a = q1-1*(q3-q1)\n",
        "b = q3+1*(q3-q1)\n",
        "j = 0\n",
        "print(len(data2))\n",
        "index1 = data2[(data2['Overtime'] <= a) | (data2['Overtime'] >= b)].index\n",
        "print(len(index1))\n",
        "#print(len(data2))\n",
        "data2 = data2.drop(index1)\n",
        "# while(i<len(data2['Salaries'])):\n",
        "#   if(data2['Salaries'][i] > b or data2['Salaries'][i] < a):\n",
        "#     data2.drop(data2.index[j])\n",
        "#   else:\n",
        "#     i+=1\n",
        "#   j+=1"
      ],
      "execution_count": null,
      "outputs": [
        {
          "output_type": "stream",
          "text": [
            "273023\n",
            "14366\n"
          ],
          "name": "stdout"
        }
      ]
    },
    {
      "cell_type": "code",
      "metadata": {
        "colab": {
          "base_uri": "https://localhost:8080/",
          "height": 350
        },
        "id": "FL_QJoXW0tKP",
        "outputId": "de915f90-025b-48f7-c1c9-85185b336085"
      },
      "source": [
        "sns.boxplot(data2['Overtime'])"
      ],
      "execution_count": null,
      "outputs": [
        {
          "output_type": "stream",
          "text": [
            "/usr/local/lib/python3.7/dist-packages/seaborn/_decorators.py:43: FutureWarning: Pass the following variable as a keyword arg: x. From version 0.12, the only valid positional argument will be `data`, and passing other arguments without an explicit keyword will result in an error or misinterpretation.\n",
            "  FutureWarning\n"
          ],
          "name": "stderr"
        },
        {
          "output_type": "execute_result",
          "data": {
            "text/plain": [
              "<matplotlib.axes._subplots.AxesSubplot at 0x7f95d81eef50>"
            ]
          },
          "metadata": {
            "tags": []
          },
          "execution_count": 19
        },
        {
          "output_type": "display_data",
          "data": {
            "image/png": "[encoded data removed]",
            "text/plain": [
              "<Figure size 432x288 with 1 Axes>"
            ]
          },
          "metadata": {
            "tags": []
          }
        }
      ]
    },
    {
      "cell_type": "markdown",
      "metadata": {
        "id": "9b05rP4U2RF_"
      },
      "source": [
        "# **3. H/D**"
      ]
    },
    {
      "cell_type": "code",
      "metadata": {
        "colab": {
          "base_uri": "https://localhost:8080/",
          "height": 350
        },
        "id": "GotblZOhoUwr",
        "outputId": "d50b29e6-9431-4227-c04b-a662b458bc9b"
      },
      "source": [
        "sns.distplot(data2['H/D'])"
      ],
      "execution_count": null,
      "outputs": [
        {
          "output_type": "stream",
          "text": [
            "/usr/local/lib/python3.7/dist-packages/seaborn/distributions.py:2557: FutureWarning: `distplot` is a deprecated function and will be removed in a future version. Please adapt your code to use either `displot` (a figure-level function with similar flexibility) or `histplot` (an axes-level function for histograms).\n",
            "  warnings.warn(msg, FutureWarning)\n"
          ],
          "name": "stderr"
        },
        {
          "output_type": "execute_result",
          "data": {
            "text/plain": [
              "<matplotlib.axes._subplots.AxesSubplot at 0x7f95d81e7c50>"
            ]
          },
          "metadata": {
            "tags": []
          },
          "execution_count": 20
        },
        {
          "output_type": "display_data",
          "data": {
            "image/png": "[encoded data removed]",
            "text/plain": [
              "<Figure size 432x288 with 1 Axes>"
            ]
          },
          "metadata": {
            "tags": []
          }
        }
      ]
    },
    {
      "cell_type": "code",
      "metadata": {
        "colab": {
          "base_uri": "https://localhost:8080/",
          "height": 350
        },
        "id": "mVdUCSUFo2eB",
        "outputId": "eef3a9a2-8ec6-4285-88a0-9947d604ef1b"
      },
      "source": [
        "sns.boxplot(data2['H/D'])"
      ],
      "execution_count": null,
      "outputs": [
        {
          "output_type": "stream",
          "text": [
            "/usr/local/lib/python3.7/dist-packages/seaborn/_decorators.py:43: FutureWarning: Pass the following variable as a keyword arg: x. From version 0.12, the only valid positional argument will be `data`, and passing other arguments without an explicit keyword will result in an error or misinterpretation.\n",
            "  FutureWarning\n"
          ],
          "name": "stderr"
        },
        {
          "output_type": "execute_result",
          "data": {
            "text/plain": [
              "<matplotlib.axes._subplots.AxesSubplot at 0x7f95d80e6510>"
            ]
          },
          "metadata": {
            "tags": []
          },
          "execution_count": 21
        },
        {
          "output_type": "display_data",
          "data": {
            "image/png": "[encoded data removed]",
            "text/plain": [
              "<Figure size 432x288 with 1 Axes>"
            ]
          },
          "metadata": {
            "tags": []
          }
        }
      ]
    },
    {
      "cell_type": "markdown",
      "metadata": {
        "id": "rC1JhjWgunK2"
      },
      "source": [
        "# **4. Training and Testing Split**"
      ]
    },
    {
      "cell_type": "code",
      "metadata": {
        "id": "rOb3x-HT3DuQ"
      },
      "source": [
        "X_train = data2.drop(['Total_Compensation'],axis = 1)[:250000]\n",
        "X_test = data2.drop(['Total_Compensation'],axis = 1)[250000:]\n",
        "y_train = data2['Total_Compensation'][:250000]\n",
        "y_test = data2['Total_Compensation'][250000:]"
      ],
      "execution_count": null,
      "outputs": []
    },
    {
      "cell_type": "markdown",
      "metadata": {
        "id": "KRV4Zy2xu_Jm"
      },
      "source": [
        "# **Categorical Variable**"
      ]
    },
    {
      "cell_type": "markdown",
      "metadata": {
        "id": "bITBrLFg_DNA"
      },
      "source": [
        "# **YEAR**"
      ]
    },
    {
      "cell_type": "code",
      "metadata": {
        "colab": {
          "base_uri": "https://localhost:8080/",
          "height": 350
        },
        "id": "IYfjOg2suLoG",
        "outputId": "636ae401-ae21-4f56-f7f9-c52cd0c05dd8"
      },
      "source": [
        "sns.countplot(X_train['Year'])"
      ],
      "execution_count": null,
      "outputs": [
        {
          "output_type": "stream",
          "text": [
            "/usr/local/lib/python3.7/dist-packages/seaborn/_decorators.py:43: FutureWarning: Pass the following variable as a keyword arg: x. From version 0.12, the only valid positional argument will be `data`, and passing other arguments without an explicit keyword will result in an error or misinterpretation.\n",
            "  FutureWarning\n"
          ],
          "name": "stderr"
        },
        {
          "output_type": "execute_result",
          "data": {
            "text/plain": [
              "<matplotlib.axes._subplots.AxesSubplot at 0x7f95d8049650>"
            ]
          },
          "metadata": {
            "tags": []
          },
          "execution_count": 23
        },
        {
          "output_type": "display_data",
          "data": {
            "image/png": "[encoded data removed]",
            "text/plain": [
              "<Figure size 432x288 with 1 Axes>"
            ]
          },
          "metadata": {
            "tags": []
          }
        }
      ]
    },
    {
      "cell_type": "code",
      "metadata": {
        "colab": {
          "base_uri": "https://localhost:8080/"
        },
        "id": "euknXTTd4Cr6",
        "outputId": "1702e76d-6341-4df3-c5a4-f6830243fd48"
      },
      "source": [
        "dict1 = {2013:[0,0] , 2014 :[0,0] , 2015 : [0,0] , 2016 : [0,0]}\n",
        "indx1 = X_train.index\n",
        "#print(indx1) \n",
        "for i in indx1:\n",
        "  dict1[X_train[\"Year\"][i]][0] = dict1[X_train[\"Year\"][i]][0]+y_train[i]\n",
        "  dict1[X_train[\"Year\"][i]][1] = dict1[X_train[\"Year\"][i]][1]+1\n",
        "print(dict1)\n",
        "for i in dict1:\n",
        "  print(dict1[i][0]/dict1[i][1])\n",
        "\n",
        "X_train['Year'] = X_train['Year'].replace(2014,1)\n",
        "X_test['Year'] = X_test['Year'].replace(2014,1)\n",
        "X_train['Year'] = X_train['Year'].replace(2015,2)\n",
        "X_test['Year'] = X_test['Year'].replace(2015,2)\n",
        "X_train['Year'] = X_train['Year'].replace(2013,3)\n",
        "X_test['Year'] = X_test['Year'].replace(2013,3)\n",
        "X_train['Year'] = X_train['Year'].replace(2016,4)\n",
        "X_test['Year'] = X_test['Year'].replace(2016,4)\n",
        "\n",
        "#2014 - 1\n",
        "#2015 - 2\n",
        "#2013 - 3\n",
        "#2016 - 4"
      ],
      "execution_count": null,
      "outputs": [
        {
          "output_type": "stream",
          "text": [
            "{2013: [7113715369, 73057], 2014: [7256386314, 75181], 2015: [6746379668, 69204], 2016: [3217164021, 32558]}\n",
            "97372.1254499911\n",
            "96518.88527686517\n",
            "97485.40067048148\n",
            "98813.31841636464\n"
          ],
          "name": "stdout"
        }
      ]
    },
    {
      "cell_type": "code",
      "metadata": {
        "colab": {
          "base_uri": "https://localhost:8080/",
          "height": 350
        },
        "id": "JFKn_Chx-sUy",
        "outputId": "c4821c17-ced8-4496-e824-a02175f1e415"
      },
      "source": [
        "sns.countplot(X_train['Year'])"
      ],
      "execution_count": null,
      "outputs": [
        {
          "output_type": "stream",
          "text": [
            "/usr/local/lib/python3.7/dist-packages/seaborn/_decorators.py:43: FutureWarning: Pass the following variable as a keyword arg: x. From version 0.12, the only valid positional argument will be `data`, and passing other arguments without an explicit keyword will result in an error or misinterpretation.\n",
            "  FutureWarning\n"
          ],
          "name": "stderr"
        },
        {
          "output_type": "execute_result",
          "data": {
            "text/plain": [
              "<matplotlib.axes._subplots.AxesSubplot at 0x7f95d7fc6150>"
            ]
          },
          "metadata": {
            "tags": []
          },
          "execution_count": 25
        },
        {
          "output_type": "display_data",
          "data": {
            "image/png": "[encoded data removed]",
            "text/plain": [
              "<Figure size 432x288 with 1 Axes>"
            ]
          },
          "metadata": {
            "tags": []
          }
        }
      ]
    },
    {
      "cell_type": "markdown",
      "metadata": {
        "id": "EoWuvwYg_IGT"
      },
      "source": [
        "# **OGC**"
      ]
    },
    {
      "cell_type": "code",
      "metadata": {
        "colab": {
          "base_uri": "https://localhost:8080/",
          "height": 350
        },
        "id": "Z1My-K6rusGL",
        "outputId": "638210a5-f4ac-4408-ab23-c673f8efb2ab"
      },
      "source": [
        "sns.countplot(data2['OGC'])"
      ],
      "execution_count": null,
      "outputs": [
        {
          "output_type": "stream",
          "text": [
            "/usr/local/lib/python3.7/dist-packages/seaborn/_decorators.py:43: FutureWarning: Pass the following variable as a keyword arg: x. From version 0.12, the only valid positional argument will be `data`, and passing other arguments without an explicit keyword will result in an error or misinterpretation.\n",
            "  FutureWarning\n"
          ],
          "name": "stderr"
        },
        {
          "output_type": "execute_result",
          "data": {
            "text/plain": [
              "<matplotlib.axes._subplots.AxesSubplot at 0x7f95d7fa7c50>"
            ]
          },
          "metadata": {
            "tags": []
          },
          "execution_count": 26
        },
        {
          "output_type": "display_data",
          "data": {
            "image/png": "[encoded data removed]",
            "text/plain": [
              "<Figure size 432x288 with 1 Axes>"
            ]
          },
          "metadata": {
            "tags": []
          }
        }
      ]
    },
    {
      "cell_type": "code",
      "metadata": {
        "colab": {
          "base_uri": "https://localhost:8080/"
        },
        "id": "dqTtvaQK-P7q",
        "outputId": "ad274ed0-09bd-44e6-c2c1-335d485b62f3"
      },
      "source": [
        "dict1 = {1:[0,0] , 2 :[0,0] , 3 : [0,0] , 4 : [0,0],5 : [0,0],6 : [0,0],7 : [0,0]}\n",
        "indx1 = X_train.index\n",
        "#print(indx1) \n",
        "for i in indx1:\n",
        "  dict1[X_train[\"OGC\"][i]][0] = dict1[X_train[\"OGC\"][i]][0]+y_train[i]\n",
        "  dict1[X_train[\"OGC\"][i]][1] = dict1[X_train[\"OGC\"][i]][1]+1\n",
        "print(dict1)\n",
        "for i in dict1:\n",
        "  print(dict1[i][0]/dict1[i][1])\n",
        "\n",
        "X_train['OGC'] = X_train['OGC'].replace(1,dict1[1][0]/dict1[1][1])\n",
        "X_test['OGC'] = X_test['OGC'].replace(1,dict1[1][0]/dict1[1][1])\n",
        "X_train['OGC'] = X_train['OGC'].replace(2,dict1[2][0]/dict1[2][1])\n",
        "X_test['OGC'] = X_test['OGC'].replace(2,dict1[2][0]/dict1[2][1])\n",
        "X_train['OGC'] = X_train['OGC'].replace(3,dict1[3][0]/dict1[3][1])\n",
        "X_test['OGC'] = X_test['OGC'].replace(3,dict1[3][0]/dict1[3][1])\n",
        "X_train['OGC'] = X_train['OGC'].replace(4,dict1[4][0]/dict1[4][1])\n",
        "X_test['OGC'] = X_test['OGC'].replace(4,dict1[4][0]/dict1[4][1])\n",
        "X_train['OGC'] = X_train['OGC'].replace(5,dict1[5][0]/dict1[5][1])\n",
        "X_test['OGC'] = X_test['OGC'].replace(5,dict1[5][0]/dict1[5][1])\n",
        "X_train['OGC'] = X_train['OGC'].replace(6,dict1[6][0]/dict1[6][1])\n",
        "X_test['OGC'] = X_test['OGC'].replace(6,dict1[6][0]/dict1[6][1])\n",
        "X_train['OGC'] = X_train['OGC'].replace(7,dict1[7][0]/dict1[7][1])\n",
        "X_test['OGC'] = X_test['OGC'].replace(7,dict1[7][0]/dict1[7][1])\n"
      ],
      "execution_count": null,
      "outputs": [
        {
          "output_type": "stream",
          "text": [
            "{1: [5565124982, 43102], 2: [7946575767, 80383], 3: [1706212342, 23706], 4: [5660115248, 57705], 5: [1228489076, 21975], 6: [2222690152, 22967], 7: [4437805, 162]}\n",
            "129115.2378543919\n",
            "98858.91005560878\n",
            "71973.86071036868\n",
            "98087.08513993588\n",
            "55903.93974971559\n",
            "96777.55701658902\n",
            "27393.85802469136\n"
          ],
          "name": "stdout"
        }
      ]
    },
    {
      "cell_type": "code",
      "metadata": {
        "id": "1DU_TRvmBZt_"
      },
      "source": [
        ""
      ],
      "execution_count": null,
      "outputs": []
    },
    {
      "cell_type": "markdown",
      "metadata": {
        "id": "0wy6vQw3CcmC"
      },
      "source": [
        "# **OG**"
      ]
    },
    {
      "cell_type": "code",
      "metadata": {
        "colab": {
          "base_uri": "https://localhost:8080/",
          "height": 350
        },
        "id": "jNN0cN9Au5vv",
        "outputId": "47d0bdfd-81ec-4bfe-8589-a34ae669f3ee"
      },
      "source": [
        "sns.countplot(data2['OG'])"
      ],
      "execution_count": null,
      "outputs": [
        {
          "output_type": "stream",
          "text": [
            "/usr/local/lib/python3.7/dist-packages/seaborn/_decorators.py:43: FutureWarning: Pass the following variable as a keyword arg: x. From version 0.12, the only valid positional argument will be `data`, and passing other arguments without an explicit keyword will result in an error or misinterpretation.\n",
            "  FutureWarning\n"
          ],
          "name": "stderr"
        },
        {
          "output_type": "execute_result",
          "data": {
            "text/plain": [
              "<matplotlib.axes._subplots.AxesSubplot at 0x7f95d7eb9650>"
            ]
          },
          "metadata": {
            "tags": []
          },
          "execution_count": 28
        },
        {
          "output_type": "display_data",
          "data": {
            "image/png": "[encoded data removed]",
            "text/plain": [
              "<Figure size 432x288 with 1 Axes>"
            ]
          },
          "metadata": {
            "tags": []
          }
        }
      ]
    },
    {
      "cell_type": "code",
      "metadata": {
        "colab": {
          "base_uri": "https://localhost:8080/"
        },
        "id": "alY9g11iCytm",
        "outputId": "19418c70-f8a0-4f7d-eb70-64948cf40860"
      },
      "source": [
        "dict1 = {}\n",
        "indx1 = X_train.index\n",
        "#print(indx1) \n",
        "for i in indx1:\n",
        "  if X_train[\"OG\"][i] in dict1:\n",
        "    dict1[X_train[\"OG\"][i]][0] = dict1[X_train[\"OG\"][i]][0]+y_train[i]\n",
        "    dict1[X_train[\"OG\"][i]][1] = dict1[X_train[\"OG\"][i]][1]+1\n",
        "  else:\n",
        "    dict1[X_train[\"OG\"][i]] = [0,0]\n",
        "    dict1[X_train[\"OG\"][i]][0] = dict1[X_train[\"OG\"][i]][0]+y_train[i]\n",
        "    dict1[X_train[\"OG\"][i]][1] = dict1[X_train[\"OG\"][i]][1]+1\n",
        "print(dict1)\n",
        "for i in dict1:\n",
        "  print(dict1[i][0]/dict1[i][1])\n",
        "for i in dict1:\n",
        "  X_train['OG'] = X_train['OG'].replace(i,dict1[i][0]/dict1[i][1])\n",
        "  X_test['OG'] = X_test['OG'].replace(i,dict1[i][0]/dict1[i][1])"
      ],
      "execution_count": null,
      "outputs": [
        {
          "output_type": "stream",
          "text": [
            "{'Community Health': [5658191142, 57687], 'General Administration & Finance': [2233205427, 23050], 'Public Works, Transportation & Commerce': [7955189038, 80438], 'Human Welfare & Neighborhood Development': [1695122309, 23628], 'Culture & Recreation': [1221522578, 21926], 'Public Protection': [5565980872, 43110], 'General City Responsibilities': [4434006, 161]}\n",
            "98084.33688699361\n",
            "96885.26798264642\n",
            "98898.39426639151\n",
            "71742.0987387845\n",
            "55711.145580589255\n",
            "129111.13133843656\n",
            "27540.4099378882\n"
          ],
          "name": "stdout"
        }
      ]
    },
    {
      "cell_type": "code",
      "metadata": {
        "colab": {
          "base_uri": "https://localhost:8080/",
          "height": 350
        },
        "id": "yyYOOZDSDqeg",
        "outputId": "fa401788-d061-49f8-ff9a-3c76d4e3cbe1"
      },
      "source": [
        "sns.countplot(X_train['OG'])"
      ],
      "execution_count": null,
      "outputs": [
        {
          "output_type": "stream",
          "text": [
            "/usr/local/lib/python3.7/dist-packages/seaborn/_decorators.py:43: FutureWarning: Pass the following variable as a keyword arg: x. From version 0.12, the only valid positional argument will be `data`, and passing other arguments without an explicit keyword will result in an error or misinterpretation.\n",
            "  FutureWarning\n"
          ],
          "name": "stderr"
        },
        {
          "output_type": "execute_result",
          "data": {
            "text/plain": [
              "<matplotlib.axes._subplots.AxesSubplot at 0x7f95d7ec3610>"
            ]
          },
          "metadata": {
            "tags": []
          },
          "execution_count": 30
        },
        {
          "output_type": "display_data",
          "data": {
            "image/png": "[encoded data removed]",
            "text/plain": [
              "<Figure size 432x288 with 1 Axes>"
            ]
          },
          "metadata": {
            "tags": []
          }
        }
      ]
    },
    {
      "cell_type": "markdown",
      "metadata": {
        "id": "XVpYo5CmD4IR"
      },
      "source": [
        "# **DC**"
      ]
    },
    {
      "cell_type": "code",
      "metadata": {
        "colab": {
          "base_uri": "https://localhost:8080/",
          "height": 350
        },
        "id": "JuM9vIQxvLTj",
        "outputId": "2c6c6feb-1b9a-4b11-92c0-763a65ee3a54"
      },
      "source": [
        "sns.countplot(data2['DC'])"
      ],
      "execution_count": null,
      "outputs": [
        {
          "output_type": "stream",
          "text": [
            "/usr/local/lib/python3.7/dist-packages/seaborn/_decorators.py:43: FutureWarning: Pass the following variable as a keyword arg: x. From version 0.12, the only valid positional argument will be `data`, and passing other arguments without an explicit keyword will result in an error or misinterpretation.\n",
            "  FutureWarning\n"
          ],
          "name": "stderr"
        },
        {
          "output_type": "execute_result",
          "data": {
            "text/plain": [
              "<matplotlib.axes._subplots.AxesSubplot at 0x7f95d7daefd0>"
            ]
          },
          "metadata": {
            "tags": []
          },
          "execution_count": 31
        },
        {
          "output_type": "display_data",
          "data": {
            "image/png": "[encoded data removed]",
            "text/plain": [
              "<Figure size 432x288 with 1 Axes>"
            ]
          },
          "metadata": {
            "tags": []
          }
        }
      ]
    },
    {
      "cell_type": "code",
      "metadata": {
        "colab": {
          "base_uri": "https://localhost:8080/"
        },
        "id": "ljtwzlulEgSe",
        "outputId": "1a3f541f-9875-4354-facd-4aa9af66d5e9"
      },
      "source": [
        "len(data2['DC'].unique())"
      ],
      "execution_count": null,
      "outputs": [
        {
          "output_type": "execute_result",
          "data": {
            "text/plain": [
              "54"
            ]
          },
          "metadata": {
            "tags": []
          },
          "execution_count": 32
        }
      ]
    },
    {
      "cell_type": "code",
      "metadata": {
        "colab": {
          "base_uri": "https://localhost:8080/"
        },
        "id": "0PVVLCc8E6Yn",
        "outputId": "1b121e7a-1b2e-4db5-9e15-1153c7db3147"
      },
      "source": [
        "data2['DC'].value_counts().head(5)"
      ],
      "execution_count": null,
      "outputs": [
        {
          "output_type": "execute_result",
          "data": {
            "text/plain": [
              "DPH    59745\n",
              "MTA    36423\n",
              "DSS    21960\n",
              "POL    19538\n",
              "REC    12989\n",
              "Name: DC, dtype: int64"
            ]
          },
          "metadata": {
            "tags": []
          },
          "execution_count": 33
        }
      ]
    },
    {
      "cell_type": "code",
      "metadata": {
        "colab": {
          "base_uri": "https://localhost:8080/"
        },
        "id": "GbpESkXCEJV5",
        "outputId": "04ad589a-c86e-4308-e149-fb20b09074cf"
      },
      "source": [
        "idx1 = X_train.index\n",
        "for i in idx1:\n",
        "  if(X_train['DC'][i] == \"DPH\"):\n",
        "    X_train['DC'][i] = 5\n",
        "  elif(X_train['DC'][i] == \"MTA\"):\n",
        "    X_train['DC'][i] = 4\n",
        "  elif(X_train['DC'][i] == \"DSS\"):\n",
        "    X_train['DC'][i] = 3\n",
        "  elif(X_train['DC'][i] == \"POL\"):\n",
        "    X_train['DC'][i] = 2\n",
        "  elif(X_train['DC'][i] == \"REC\"):\n",
        "    X_train['DC'][i] = 1\n",
        "  else:\n",
        "    X_train['DC'][i] = 0\n",
        "\n",
        "idx1 = X_test.index\n",
        "for i in idx1:\n",
        "  if(X_test['DC'][i] == \"DPH\"):\n",
        "    X_test['DC'][i] = 5\n",
        "  elif(X_test['DC'][i] == \"MTA\"):\n",
        "    X_test['DC'][i] = 4\n",
        "  elif(X_test['DC'][i] == \"DSS\"):\n",
        "    X_test['DC'][i] = 3\n",
        "  elif(X_test['DC'][i] == \"POL\"):\n",
        "    X_test['DC'][i] = 2\n",
        "  elif(X_test['DC'][i] == \"REC\"):\n",
        "    X_test['DC'][i] = 1\n",
        "  else:\n",
        "    X_test['DC'][i] = 0"
      ],
      "execution_count": null,
      "outputs": [
        {
          "output_type": "stream",
          "text": [
            "/usr/local/lib/python3.7/dist-packages/ipykernel_launcher.py:4: SettingWithCopyWarning: \n",
            "A value is trying to be set on a copy of a slice from a DataFrame\n",
            "\n",
            "See the caveats in the documentation: https://pandas.pydata.org/pandas-docs/stable/user_guide/indexing.html#returning-a-view-versus-a-copy\n",
            "  after removing the cwd from sys.path.\n",
            "/usr/local/lib/python3.7/dist-packages/ipykernel_launcher.py:14: SettingWithCopyWarning: \n",
            "A value is trying to be set on a copy of a slice from a DataFrame\n",
            "\n",
            "See the caveats in the documentation: https://pandas.pydata.org/pandas-docs/stable/user_guide/indexing.html#returning-a-view-versus-a-copy\n",
            "  \n",
            "/usr/local/lib/python3.7/dist-packages/ipykernel_launcher.py:8: SettingWithCopyWarning: \n",
            "A value is trying to be set on a copy of a slice from a DataFrame\n",
            "\n",
            "See the caveats in the documentation: https://pandas.pydata.org/pandas-docs/stable/user_guide/indexing.html#returning-a-view-versus-a-copy\n",
            "  \n",
            "/usr/local/lib/python3.7/dist-packages/ipykernel_launcher.py:6: SettingWithCopyWarning: \n",
            "A value is trying to be set on a copy of a slice from a DataFrame\n",
            "\n",
            "See the caveats in the documentation: https://pandas.pydata.org/pandas-docs/stable/user_guide/indexing.html#returning-a-view-versus-a-copy\n",
            "  \n",
            "/usr/local/lib/python3.7/dist-packages/ipykernel_launcher.py:12: SettingWithCopyWarning: \n",
            "A value is trying to be set on a copy of a slice from a DataFrame\n",
            "\n",
            "See the caveats in the documentation: https://pandas.pydata.org/pandas-docs/stable/user_guide/indexing.html#returning-a-view-versus-a-copy\n",
            "  if sys.path[0] == '':\n",
            "/usr/local/lib/python3.7/dist-packages/ipykernel_launcher.py:10: SettingWithCopyWarning: \n",
            "A value is trying to be set on a copy of a slice from a DataFrame\n",
            "\n",
            "See the caveats in the documentation: https://pandas.pydata.org/pandas-docs/stable/user_guide/indexing.html#returning-a-view-versus-a-copy\n",
            "  # Remove the CWD from sys.path while we load stuff.\n",
            "/usr/local/lib/python3.7/dist-packages/ipykernel_launcher.py:29: SettingWithCopyWarning: \n",
            "A value is trying to be set on a copy of a slice from a DataFrame\n",
            "\n",
            "See the caveats in the documentation: https://pandas.pydata.org/pandas-docs/stable/user_guide/indexing.html#returning-a-view-versus-a-copy\n",
            "/usr/local/lib/python3.7/dist-packages/ipykernel_launcher.py:21: SettingWithCopyWarning: \n",
            "A value is trying to be set on a copy of a slice from a DataFrame\n",
            "\n",
            "See the caveats in the documentation: https://pandas.pydata.org/pandas-docs/stable/user_guide/indexing.html#returning-a-view-versus-a-copy\n",
            "/usr/local/lib/python3.7/dist-packages/ipykernel_launcher.py:19: SettingWithCopyWarning: \n",
            "A value is trying to be set on a copy of a slice from a DataFrame\n",
            "\n",
            "See the caveats in the documentation: https://pandas.pydata.org/pandas-docs/stable/user_guide/indexing.html#returning-a-view-versus-a-copy\n",
            "/usr/local/lib/python3.7/dist-packages/ipykernel_launcher.py:23: SettingWithCopyWarning: \n",
            "A value is trying to be set on a copy of a slice from a DataFrame\n",
            "\n",
            "See the caveats in the documentation: https://pandas.pydata.org/pandas-docs/stable/user_guide/indexing.html#returning-a-view-versus-a-copy\n",
            "/usr/local/lib/python3.7/dist-packages/ipykernel_launcher.py:25: SettingWithCopyWarning: \n",
            "A value is trying to be set on a copy of a slice from a DataFrame\n",
            "\n",
            "See the caveats in the documentation: https://pandas.pydata.org/pandas-docs/stable/user_guide/indexing.html#returning-a-view-versus-a-copy\n",
            "/usr/local/lib/python3.7/dist-packages/ipykernel_launcher.py:27: SettingWithCopyWarning: \n",
            "A value is trying to be set on a copy of a slice from a DataFrame\n",
            "\n",
            "See the caveats in the documentation: https://pandas.pydata.org/pandas-docs/stable/user_guide/indexing.html#returning-a-view-versus-a-copy\n"
          ],
          "name": "stderr"
        }
      ]
    },
    {
      "cell_type": "code",
      "metadata": {
        "colab": {
          "base_uri": "https://localhost:8080/",
          "height": 350
        },
        "id": "HOwb6yTCgZIg",
        "outputId": "6c2d79fd-44ff-43e5-d924-6faa9036f9f3"
      },
      "source": [
        "sns.countplot(X_train['DC'])"
      ],
      "execution_count": null,
      "outputs": [
        {
          "output_type": "stream",
          "text": [
            "/usr/local/lib/python3.7/dist-packages/seaborn/_decorators.py:43: FutureWarning: Pass the following variable as a keyword arg: x. From version 0.12, the only valid positional argument will be `data`, and passing other arguments without an explicit keyword will result in an error or misinterpretation.\n",
            "  FutureWarning\n"
          ],
          "name": "stderr"
        },
        {
          "output_type": "execute_result",
          "data": {
            "text/plain": [
              "<matplotlib.axes._subplots.AxesSubplot at 0x7f95d7fa7f10>"
            ]
          },
          "metadata": {
            "tags": []
          },
          "execution_count": 35
        },
        {
          "output_type": "display_data",
          "data": {
            "image/png": "[encoded data removed]",
            "text/plain": [
              "<Figure size 432x288 with 1 Axes>"
            ]
          },
          "metadata": {
            "tags": []
          }
        }
      ]
    },
    {
      "cell_type": "code",
      "metadata": {
        "id": "QFAJzhUHg9Lj"
      },
      "source": [
        ""
      ],
      "execution_count": null,
      "outputs": []
    },
    {
      "cell_type": "markdown",
      "metadata": {
        "id": "4Zl8KVa1g9xT"
      },
      "source": [
        "# **DEPT**"
      ]
    },
    {
      "cell_type": "code",
      "metadata": {
        "colab": {
          "base_uri": "https://localhost:8080/",
          "height": 350
        },
        "id": "rhlzy-XsvWRK",
        "outputId": "e6b4f005-5f1c-493b-9865-071a4ab8f79a"
      },
      "source": [
        "sns.countplot(data2['Dept'])"
      ],
      "execution_count": null,
      "outputs": [
        {
          "output_type": "stream",
          "text": [
            "/usr/local/lib/python3.7/dist-packages/seaborn/_decorators.py:43: FutureWarning: Pass the following variable as a keyword arg: x. From version 0.12, the only valid positional argument will be `data`, and passing other arguments without an explicit keyword will result in an error or misinterpretation.\n",
            "  FutureWarning\n"
          ],
          "name": "stderr"
        },
        {
          "output_type": "execute_result",
          "data": {
            "text/plain": [
              "<matplotlib.axes._subplots.AxesSubplot at 0x7f95d7f08850>"
            ]
          },
          "metadata": {
            "tags": []
          },
          "execution_count": 36
        },
        {
          "output_type": "display_data",
          "data": {
            "image/png": "[encoded data removed]",
            "text/plain": [
              "<Figure size 432x288 with 1 Axes>"
            ]
          },
          "metadata": {
            "tags": []
          }
        }
      ]
    },
    {
      "cell_type": "code",
      "metadata": {
        "colab": {
          "base_uri": "https://localhost:8080/"
        },
        "id": "zmYHAknhE13u",
        "outputId": "0cd1c1fe-d06b-4972-ca4e-9e192db91fd1"
      },
      "source": [
        "len(data2['Dept'].unique())"
      ],
      "execution_count": null,
      "outputs": [
        {
          "output_type": "execute_result",
          "data": {
            "text/plain": [
              "54"
            ]
          },
          "metadata": {
            "tags": []
          },
          "execution_count": 37
        }
      ]
    },
    {
      "cell_type": "code",
      "metadata": {
        "colab": {
          "base_uri": "https://localhost:8080/"
        },
        "id": "qjAGntM9hXDO",
        "outputId": "e3b58538-76ef-44f1-d1ec-1b132e8a7db5"
      },
      "source": [
        "data2['Dept'].value_counts().head(5)"
      ],
      "execution_count": null,
      "outputs": [
        {
          "output_type": "execute_result",
          "data": {
            "text/plain": [
              "Public Health                      59766\n",
              "Municipal Transportation Agency    36405\n",
              "Human Services                     21967\n",
              "Police                             19548\n",
              "Recreation and Park Commission     12984\n",
              "Name: Dept, dtype: int64"
            ]
          },
          "metadata": {
            "tags": []
          },
          "execution_count": 38
        }
      ]
    },
    {
      "cell_type": "code",
      "metadata": {
        "colab": {
          "base_uri": "https://localhost:8080/"
        },
        "id": "hibOWKEohfnb",
        "outputId": "5905a275-4aac-440f-a2f1-8cc9bb0893d8"
      },
      "source": [
        "idx1 = X_train.index\n",
        "for i in idx1:\n",
        "  if(X_train['Dept'][i] == \"Public Health\"):\n",
        "    X_train['Dept'][i] = 5\n",
        "  elif(X_train['Dept'][i] == \"Municipal Transportation Agency\"):\n",
        "    X_train['Dept'][i] = 4\n",
        "  elif(X_train['Dept'][i] == \"Human Services\"):\n",
        "    X_train['Dept'][i] = 3\n",
        "  elif(X_train['Dept'][i] == \"Police\"):\n",
        "    X_train['Dept'][i] = 2\n",
        "  elif(X_train['Dept'][i] == \"Recreation and Park Commission\"):\n",
        "    X_train['Dept'][i] = 1\n",
        "  else:\n",
        "    X_train['Dept'][i] = 0\n",
        "\n",
        "idx1 = X_test.index\n",
        "for i in idx1:\n",
        "  if(X_test['Dept'][i] == \"Public Health\"):\n",
        "    X_test['Dept'][i] = 5\n",
        "  elif(X_test['Dept'][i] == \"Municipal Transportation Agency\"):\n",
        "    X_test['Dept'][i] = 4\n",
        "  elif(X_test['Dept'][i] == \"Human Services\"):\n",
        "    X_test['Dept'][i] = 3\n",
        "  elif(X_test['Dept'][i] == \"Police\"):\n",
        "    X_test['Dept'][i] = 2\n",
        "  elif(X_test['Dept'][i] == \"Recreation and Park Commission\"):\n",
        "    X_test['Dept'][i] = 1\n",
        "  else:\n",
        "    X_test['Dept'][i] = 0"
      ],
      "execution_count": null,
      "outputs": [
        {
          "output_type": "stream",
          "text": [
            "/usr/local/lib/python3.7/dist-packages/ipykernel_launcher.py:4: SettingWithCopyWarning: \n",
            "A value is trying to be set on a copy of a slice from a DataFrame\n",
            "\n",
            "See the caveats in the documentation: https://pandas.pydata.org/pandas-docs/stable/user_guide/indexing.html#returning-a-view-versus-a-copy\n",
            "  after removing the cwd from sys.path.\n",
            "/usr/local/lib/python3.7/dist-packages/ipykernel_launcher.py:14: SettingWithCopyWarning: \n",
            "A value is trying to be set on a copy of a slice from a DataFrame\n",
            "\n",
            "See the caveats in the documentation: https://pandas.pydata.org/pandas-docs/stable/user_guide/indexing.html#returning-a-view-versus-a-copy\n",
            "  \n",
            "/usr/local/lib/python3.7/dist-packages/ipykernel_launcher.py:8: SettingWithCopyWarning: \n",
            "A value is trying to be set on a copy of a slice from a DataFrame\n",
            "\n",
            "See the caveats in the documentation: https://pandas.pydata.org/pandas-docs/stable/user_guide/indexing.html#returning-a-view-versus-a-copy\n",
            "  \n",
            "/usr/local/lib/python3.7/dist-packages/ipykernel_launcher.py:6: SettingWithCopyWarning: \n",
            "A value is trying to be set on a copy of a slice from a DataFrame\n",
            "\n",
            "See the caveats in the documentation: https://pandas.pydata.org/pandas-docs/stable/user_guide/indexing.html#returning-a-view-versus-a-copy\n",
            "  \n",
            "/usr/local/lib/python3.7/dist-packages/ipykernel_launcher.py:12: SettingWithCopyWarning: \n",
            "A value is trying to be set on a copy of a slice from a DataFrame\n",
            "\n",
            "See the caveats in the documentation: https://pandas.pydata.org/pandas-docs/stable/user_guide/indexing.html#returning-a-view-versus-a-copy\n",
            "  if sys.path[0] == '':\n",
            "/usr/local/lib/python3.7/dist-packages/ipykernel_launcher.py:10: SettingWithCopyWarning: \n",
            "A value is trying to be set on a copy of a slice from a DataFrame\n",
            "\n",
            "See the caveats in the documentation: https://pandas.pydata.org/pandas-docs/stable/user_guide/indexing.html#returning-a-view-versus-a-copy\n",
            "  # Remove the CWD from sys.path while we load stuff.\n",
            "/usr/local/lib/python3.7/dist-packages/ipykernel_launcher.py:29: SettingWithCopyWarning: \n",
            "A value is trying to be set on a copy of a slice from a DataFrame\n",
            "\n",
            "See the caveats in the documentation: https://pandas.pydata.org/pandas-docs/stable/user_guide/indexing.html#returning-a-view-versus-a-copy\n",
            "/usr/local/lib/python3.7/dist-packages/ipykernel_launcher.py:21: SettingWithCopyWarning: \n",
            "A value is trying to be set on a copy of a slice from a DataFrame\n",
            "\n",
            "See the caveats in the documentation: https://pandas.pydata.org/pandas-docs/stable/user_guide/indexing.html#returning-a-view-versus-a-copy\n",
            "/usr/local/lib/python3.7/dist-packages/ipykernel_launcher.py:19: SettingWithCopyWarning: \n",
            "A value is trying to be set on a copy of a slice from a DataFrame\n",
            "\n",
            "See the caveats in the documentation: https://pandas.pydata.org/pandas-docs/stable/user_guide/indexing.html#returning-a-view-versus-a-copy\n",
            "/usr/local/lib/python3.7/dist-packages/ipykernel_launcher.py:23: SettingWithCopyWarning: \n",
            "A value is trying to be set on a copy of a slice from a DataFrame\n",
            "\n",
            "See the caveats in the documentation: https://pandas.pydata.org/pandas-docs/stable/user_guide/indexing.html#returning-a-view-versus-a-copy\n",
            "/usr/local/lib/python3.7/dist-packages/ipykernel_launcher.py:25: SettingWithCopyWarning: \n",
            "A value is trying to be set on a copy of a slice from a DataFrame\n",
            "\n",
            "See the caveats in the documentation: https://pandas.pydata.org/pandas-docs/stable/user_guide/indexing.html#returning-a-view-versus-a-copy\n",
            "/usr/local/lib/python3.7/dist-packages/ipykernel_launcher.py:27: SettingWithCopyWarning: \n",
            "A value is trying to be set on a copy of a slice from a DataFrame\n",
            "\n",
            "See the caveats in the documentation: https://pandas.pydata.org/pandas-docs/stable/user_guide/indexing.html#returning-a-view-versus-a-copy\n"
          ],
          "name": "stderr"
        }
      ]
    },
    {
      "cell_type": "code",
      "metadata": {
        "colab": {
          "base_uri": "https://localhost:8080/",
          "height": 350
        },
        "id": "DBRLyaSnh__R",
        "outputId": "0a22dd84-b8f5-4336-b289-534d5248654b"
      },
      "source": [
        "sns.countplot(X_train['Dept'])"
      ],
      "execution_count": null,
      "outputs": [
        {
          "output_type": "stream",
          "text": [
            "/usr/local/lib/python3.7/dist-packages/seaborn/_decorators.py:43: FutureWarning: Pass the following variable as a keyword arg: x. From version 0.12, the only valid positional argument will be `data`, and passing other arguments without an explicit keyword will result in an error or misinterpretation.\n",
            "  FutureWarning\n"
          ],
          "name": "stderr"
        },
        {
          "output_type": "execute_result",
          "data": {
            "text/plain": [
              "<matplotlib.axes._subplots.AxesSubplot at 0x7f95e609b750>"
            ]
          },
          "metadata": {
            "tags": []
          },
          "execution_count": 40
        },
        {
          "output_type": "display_data",
          "data": {
            "image/png": "[encoded data removed]",
            "text/plain": [
              "<Figure size 432x288 with 1 Axes>"
            ]
          },
          "metadata": {
            "tags": []
          }
        }
      ]
    },
    {
      "cell_type": "markdown",
      "metadata": {
        "id": "ECFK4dYAiBce"
      },
      "source": [
        "# **UC**"
      ]
    },
    {
      "cell_type": "code",
      "metadata": {
        "colab": {
          "base_uri": "https://localhost:8080/",
          "height": 350
        },
        "id": "eUj3u9FTvcQx",
        "outputId": "b0f401ca-2995-4c25-8d7f-76ab53b24ee4"
      },
      "source": [
        "sns.countplot(data2['UC'])"
      ],
      "execution_count": null,
      "outputs": [
        {
          "output_type": "stream",
          "text": [
            "/usr/local/lib/python3.7/dist-packages/seaborn/_decorators.py:43: FutureWarning: Pass the following variable as a keyword arg: x. From version 0.12, the only valid positional argument will be `data`, and passing other arguments without an explicit keyword will result in an error or misinterpretation.\n",
            "  FutureWarning\n"
          ],
          "name": "stderr"
        },
        {
          "output_type": "execute_result",
          "data": {
            "text/plain": [
              "<matplotlib.axes._subplots.AxesSubplot at 0x7f95d77b0810>"
            ]
          },
          "metadata": {
            "tags": []
          },
          "execution_count": 41
        },
        {
          "output_type": "display_data",
          "data": {
            "image/png": "[encoded data removed]",
            "text/plain": [
              "<Figure size 432x288 with 1 Axes>"
            ]
          },
          "metadata": {
            "tags": []
          }
        }
      ]
    },
    {
      "cell_type": "code",
      "metadata": {
        "colab": {
          "base_uri": "https://localhost:8080/"
        },
        "id": "h06-t8wKiWf0",
        "outputId": "a13834c9-1b96-4619-d6be-dcd260cf61e3"
      },
      "source": [
        "len(data2['UC'].unique())"
      ],
      "execution_count": null,
      "outputs": [
        {
          "output_type": "execute_result",
          "data": {
            "text/plain": [
              "758"
            ]
          },
          "metadata": {
            "tags": []
          },
          "execution_count": 42
        }
      ]
    },
    {
      "cell_type": "code",
      "metadata": {
        "colab": {
          "base_uri": "https://localhost:8080/"
        },
        "id": "UWQNF_moiXus",
        "outputId": "f8b84859-ca0f-438a-a795-c61b16b8b2fc"
      },
      "source": [
        "data2['UC'].value_counts().head(5)"
      ],
      "execution_count": null,
      "outputs": [
        {
          "output_type": "execute_result",
          "data": {
            "text/plain": [
              "790    73751\n",
              "21     34839\n",
              "791    20310\n",
              "911    15608\n",
              "253    15436\n",
              "Name: UC, dtype: int64"
            ]
          },
          "metadata": {
            "tags": []
          },
          "execution_count": 43
        }
      ]
    },
    {
      "cell_type": "code",
      "metadata": {
        "id": "plZQiIs0iSB3"
      },
      "source": [
        ""
      ],
      "execution_count": null,
      "outputs": []
    },
    {
      "cell_type": "markdown",
      "metadata": {
        "id": "2Fcei235vpKa"
      },
      "source": [
        "# **Union**"
      ]
    },
    {
      "cell_type": "code",
      "metadata": {
        "colab": {
          "base_uri": "https://localhost:8080/",
          "height": 350
        },
        "id": "tP_FY2shvhEF",
        "outputId": "529fd61a-7a90-4eda-aded-fe9c840ae368"
      },
      "source": [
        "sns.countplot(data2['Union'])"
      ],
      "execution_count": null,
      "outputs": [
        {
          "output_type": "stream",
          "text": [
            "/usr/local/lib/python3.7/dist-packages/seaborn/_decorators.py:43: FutureWarning: Pass the following variable as a keyword arg: x. From version 0.12, the only valid positional argument will be `data`, and passing other arguments without an explicit keyword will result in an error or misinterpretation.\n",
            "  FutureWarning\n"
          ],
          "name": "stderr"
        },
        {
          "output_type": "execute_result",
          "data": {
            "text/plain": [
              "<matplotlib.axes._subplots.AxesSubplot at 0x7f95d7a0b590>"
            ]
          },
          "metadata": {
            "tags": []
          },
          "execution_count": 44
        },
        {
          "output_type": "display_data",
          "data": {
            "image/png": "[encoded data removed]",
            "text/plain": [
              "<Figure size 432x288 with 1 Axes>"
            ]
          },
          "metadata": {
            "tags": []
          }
        }
      ]
    },
    {
      "cell_type": "code",
      "metadata": {
        "colab": {
          "base_uri": "https://localhost:8080/"
        },
        "id": "qxh5h2-7jMhK",
        "outputId": "5f3e8b82-5a79-4c46-c4c0-bf595f32af72"
      },
      "source": [
        "data2['Union'].value_counts().head(5)"
      ],
      "execution_count": null,
      "outputs": [
        {
          "output_type": "execute_result",
          "data": {
            "text/plain": [
              "SEIU - Miscellaneous, Local 1021                   74184\n",
              "Prof & Tech Engineers - Miscellaneous, Local 21    35128\n",
              "SEIU - Staff and Per Diem Nurses, Local 1021       20471\n",
              "Police Officers' Association                       15681\n",
              "SEIU - Health Workers, Local 1021                  15467\n",
              "Name: Union, dtype: int64"
            ]
          },
          "metadata": {
            "tags": []
          },
          "execution_count": 45
        }
      ]
    },
    {
      "cell_type": "code",
      "metadata": {
        "colab": {
          "base_uri": "https://localhost:8080/"
        },
        "id": "08PvnJbnjRdD",
        "outputId": "673fa6df-8d3c-492c-8359-a0874b1d2de8"
      },
      "source": [
        "idx1 = X_train.index\n",
        "for i in idx1:\n",
        "  if(X_train['Union'][i] == \"SEIU - Miscellaneous, Local 1021\"):\n",
        "    X_train['Union'][i] = 5\n",
        "  elif(X_train['Union'][i] == \"Prof & Tech Engineers - Miscellaneous, Local 21\"):\n",
        "    X_train['Union'][i] = 4\n",
        "  elif(X_train['Union'][i] == \"SEIU - Staff and Per Diem Nurses, Local 1021\"):\n",
        "    X_train['Union'][i] = 3\n",
        "  elif(X_train['Union'][i] == \"Police Officers' Association\"):\n",
        "    X_train['Union'][i] = 2\n",
        "  elif(X_train['Union'][i] == \"SEIU - Health Workers, Local 1021\"):\n",
        "    X_train['Union'][i] = 1\n",
        "  else:\n",
        "    X_train['Union'][i] = 0\n",
        "\n",
        "idx1 = X_test.index\n",
        "for i in idx1:\n",
        "  if(X_test['Union'][i] == \"SEIU - Miscellaneous, Local 1021\"):\n",
        "    X_test['Union'][i] = 5\n",
        "  elif(X_test['Union'][i] == \"Prof & Tech Engineers - Miscellaneous, Local 21\"):\n",
        "    X_test['Union'][i] = 4\n",
        "  elif(X_test['Union'][i] == \"SEIU - Staff and Per Diem Nurses, Local 1021\"):\n",
        "    X_test['Union'][i] = 3\n",
        "  elif(X_test['Union'][i] == \"Police Officers' Association\"):\n",
        "    X_test['Union'][i] = 2\n",
        "  elif(X_test['Union'][i] == \"SEIU - Health Workers, Local 1021\"):\n",
        "    X_test['Union'][i] = 1\n",
        "  else:\n",
        "    X_test['Union'][i] = 0"
      ],
      "execution_count": null,
      "outputs": [
        {
          "output_type": "stream",
          "text": [
            "/usr/local/lib/python3.7/dist-packages/ipykernel_launcher.py:12: SettingWithCopyWarning: \n",
            "A value is trying to be set on a copy of a slice from a DataFrame\n",
            "\n",
            "See the caveats in the documentation: https://pandas.pydata.org/pandas-docs/stable/user_guide/indexing.html#returning-a-view-versus-a-copy\n",
            "  if sys.path[0] == '':\n",
            "/usr/local/lib/python3.7/dist-packages/ipykernel_launcher.py:14: SettingWithCopyWarning: \n",
            "A value is trying to be set on a copy of a slice from a DataFrame\n",
            "\n",
            "See the caveats in the documentation: https://pandas.pydata.org/pandas-docs/stable/user_guide/indexing.html#returning-a-view-versus-a-copy\n",
            "  \n",
            "/usr/local/lib/python3.7/dist-packages/ipykernel_launcher.py:6: SettingWithCopyWarning: \n",
            "A value is trying to be set on a copy of a slice from a DataFrame\n",
            "\n",
            "See the caveats in the documentation: https://pandas.pydata.org/pandas-docs/stable/user_guide/indexing.html#returning-a-view-versus-a-copy\n",
            "  \n",
            "/usr/local/lib/python3.7/dist-packages/ipykernel_launcher.py:4: SettingWithCopyWarning: \n",
            "A value is trying to be set on a copy of a slice from a DataFrame\n",
            "\n",
            "See the caveats in the documentation: https://pandas.pydata.org/pandas-docs/stable/user_guide/indexing.html#returning-a-view-versus-a-copy\n",
            "  after removing the cwd from sys.path.\n",
            "/usr/local/lib/python3.7/dist-packages/ipykernel_launcher.py:10: SettingWithCopyWarning: \n",
            "A value is trying to be set on a copy of a slice from a DataFrame\n",
            "\n",
            "See the caveats in the documentation: https://pandas.pydata.org/pandas-docs/stable/user_guide/indexing.html#returning-a-view-versus-a-copy\n",
            "  # Remove the CWD from sys.path while we load stuff.\n",
            "/usr/local/lib/python3.7/dist-packages/ipykernel_launcher.py:8: SettingWithCopyWarning: \n",
            "A value is trying to be set on a copy of a slice from a DataFrame\n",
            "\n",
            "See the caveats in the documentation: https://pandas.pydata.org/pandas-docs/stable/user_guide/indexing.html#returning-a-view-versus-a-copy\n",
            "  \n",
            "/usr/local/lib/python3.7/dist-packages/ipykernel_launcher.py:29: SettingWithCopyWarning: \n",
            "A value is trying to be set on a copy of a slice from a DataFrame\n",
            "\n",
            "See the caveats in the documentation: https://pandas.pydata.org/pandas-docs/stable/user_guide/indexing.html#returning-a-view-versus-a-copy\n",
            "/usr/local/lib/python3.7/dist-packages/ipykernel_launcher.py:19: SettingWithCopyWarning: \n",
            "A value is trying to be set on a copy of a slice from a DataFrame\n",
            "\n",
            "See the caveats in the documentation: https://pandas.pydata.org/pandas-docs/stable/user_guide/indexing.html#returning-a-view-versus-a-copy\n",
            "/usr/local/lib/python3.7/dist-packages/ipykernel_launcher.py:21: SettingWithCopyWarning: \n",
            "A value is trying to be set on a copy of a slice from a DataFrame\n",
            "\n",
            "See the caveats in the documentation: https://pandas.pydata.org/pandas-docs/stable/user_guide/indexing.html#returning-a-view-versus-a-copy\n",
            "/usr/local/lib/python3.7/dist-packages/ipykernel_launcher.py:23: SettingWithCopyWarning: \n",
            "A value is trying to be set on a copy of a slice from a DataFrame\n",
            "\n",
            "See the caveats in the documentation: https://pandas.pydata.org/pandas-docs/stable/user_guide/indexing.html#returning-a-view-versus-a-copy\n",
            "/usr/local/lib/python3.7/dist-packages/ipykernel_launcher.py:25: SettingWithCopyWarning: \n",
            "A value is trying to be set on a copy of a slice from a DataFrame\n",
            "\n",
            "See the caveats in the documentation: https://pandas.pydata.org/pandas-docs/stable/user_guide/indexing.html#returning-a-view-versus-a-copy\n",
            "/usr/local/lib/python3.7/dist-packages/ipykernel_launcher.py:27: SettingWithCopyWarning: \n",
            "A value is trying to be set on a copy of a slice from a DataFrame\n",
            "\n",
            "See the caveats in the documentation: https://pandas.pydata.org/pandas-docs/stable/user_guide/indexing.html#returning-a-view-versus-a-copy\n"
          ],
          "name": "stderr"
        }
      ]
    },
    {
      "cell_type": "code",
      "metadata": {
        "colab": {
          "base_uri": "https://localhost:8080/",
          "height": 350
        },
        "id": "P1urEwLgjw9r",
        "outputId": "26bf742a-c114-45b9-ebea-bd86781482f6"
      },
      "source": [
        "sns.countplot(X_train['Union'])"
      ],
      "execution_count": null,
      "outputs": [
        {
          "output_type": "stream",
          "text": [
            "/usr/local/lib/python3.7/dist-packages/seaborn/_decorators.py:43: FutureWarning: Pass the following variable as a keyword arg: x. From version 0.12, the only valid positional argument will be `data`, and passing other arguments without an explicit keyword will result in an error or misinterpretation.\n",
            "  FutureWarning\n"
          ],
          "name": "stderr"
        },
        {
          "output_type": "execute_result",
          "data": {
            "text/plain": [
              "<matplotlib.axes._subplots.AxesSubplot at 0x7f95d657d550>"
            ]
          },
          "metadata": {
            "tags": []
          },
          "execution_count": 47
        },
        {
          "output_type": "display_data",
          "data": {
            "image/png": "[encoded data removed]",
            "text/plain": [
              "<Figure size 432x288 with 1 Axes>"
            ]
          },
          "metadata": {
            "tags": []
          }
        }
      ]
    },
    {
      "cell_type": "code",
      "metadata": {
        "colab": {
          "base_uri": "https://localhost:8080/"
        },
        "id": "MV5u5qPGjIHt",
        "outputId": "96d92676-b7d7-401e-d808-ff9af8e65f15"
      },
      "source": [
        "len(data2['Union'].unique())"
      ],
      "execution_count": null,
      "outputs": [
        {
          "output_type": "execute_result",
          "data": {
            "text/plain": [
              "70"
            ]
          },
          "metadata": {
            "tags": []
          },
          "execution_count": 48
        }
      ]
    },
    {
      "cell_type": "markdown",
      "metadata": {
        "id": "ElN7-OXKvvvZ"
      },
      "source": [
        "# **JF**"
      ]
    },
    {
      "cell_type": "code",
      "metadata": {
        "colab": {
          "base_uri": "https://localhost:8080/",
          "height": 350
        },
        "id": "_xUUd2A6voo1",
        "outputId": "9945464b-c008-40cd-dfcc-57770b326e35"
      },
      "source": [
        "sns.countplot(X_train['JF'])"
      ],
      "execution_count": null,
      "outputs": [
        {
          "output_type": "stream",
          "text": [
            "/usr/local/lib/python3.7/dist-packages/seaborn/_decorators.py:43: FutureWarning: Pass the following variable as a keyword arg: x. From version 0.12, the only valid positional argument will be `data`, and passing other arguments without an explicit keyword will result in an error or misinterpretation.\n",
            "  FutureWarning\n"
          ],
          "name": "stderr"
        },
        {
          "output_type": "execute_result",
          "data": {
            "text/plain": [
              "<matplotlib.axes._subplots.AxesSubplot at 0x7f95d6550e50>"
            ]
          },
          "metadata": {
            "tags": []
          },
          "execution_count": 50
        },
        {
          "output_type": "display_data",
          "data": {
            "image/png": "[encoded data removed]",
            "text/plain": [
              "<Figure size 432x288 with 1 Axes>"
            ]
          },
          "metadata": {
            "tags": []
          }
        }
      ]
    },
    {
      "cell_type": "code",
      "metadata": {
        "colab": {
          "base_uri": "https://localhost:8080/"
        },
        "id": "acBgYNX9kpKs",
        "outputId": "4a189637-2a25-4985-f76d-5becd70aeb19"
      },
      "source": [
        "idx1 = X_train.index\n",
        "for i in idx1:\n",
        "  if(X_train['JF'][i] == \"Nursing\"):\n",
        "    X_train['JF'][i] = 5\n",
        "  elif(X_train['JF'][i] == \"Street Transit\"):\n",
        "    X_train['JF'][i] = 4\n",
        "  elif(X_train['JF'][i] == \"Police Services\"):\n",
        "    X_train['JF'][i] = 3\n",
        "  elif(X_train['JF'][i] == \"Journeyman Trade\"):\n",
        "    X_train['JF'][i] = 2\n",
        "  elif(X_train['JF'][i] == \"Human Services\"):\n",
        "    X_train['JF'][i] = 1\n",
        "  else:\n",
        "    X_train['JF'][i] = 0\n",
        "\n",
        "idx1 = X_test.index\n",
        "for i in idx1:\n",
        "  if(X_test['JF'][i] == \"Nursing\"):\n",
        "    X_test['JF'][i] = 5\n",
        "  elif(X_test['JF'][i] == \"Street Transit\"):\n",
        "    X_test['JF'][i] = 4\n",
        "  elif(X_test['JF'][i] == \"Police Services\"):\n",
        "    X_test['JF'][i] = 3\n",
        "  elif(X_test['JF'][i] == \"Journeyman Trade\"):\n",
        "    X_test['JF'][i] = 2\n",
        "  elif(X_test['JF'][i] == \"Human Services\"):\n",
        "    X_test['JF'][i] = 1\n",
        "  else:\n",
        "    X_test['JF'][i] = 0"
      ],
      "execution_count": null,
      "outputs": [
        {
          "output_type": "stream",
          "text": [
            "/usr/local/lib/python3.7/dist-packages/ipykernel_launcher.py:14: SettingWithCopyWarning: \n",
            "A value is trying to be set on a copy of a slice from a DataFrame\n",
            "\n",
            "See the caveats in the documentation: https://pandas.pydata.org/pandas-docs/stable/user_guide/indexing.html#returning-a-view-versus-a-copy\n",
            "  \n",
            "/usr/local/lib/python3.7/dist-packages/ipykernel_launcher.py:10: SettingWithCopyWarning: \n",
            "A value is trying to be set on a copy of a slice from a DataFrame\n",
            "\n",
            "See the caveats in the documentation: https://pandas.pydata.org/pandas-docs/stable/user_guide/indexing.html#returning-a-view-versus-a-copy\n",
            "  # Remove the CWD from sys.path while we load stuff.\n",
            "/usr/local/lib/python3.7/dist-packages/ipykernel_launcher.py:8: SettingWithCopyWarning: \n",
            "A value is trying to be set on a copy of a slice from a DataFrame\n",
            "\n",
            "See the caveats in the documentation: https://pandas.pydata.org/pandas-docs/stable/user_guide/indexing.html#returning-a-view-versus-a-copy\n",
            "  \n",
            "/usr/local/lib/python3.7/dist-packages/ipykernel_launcher.py:4: SettingWithCopyWarning: \n",
            "A value is trying to be set on a copy of a slice from a DataFrame\n",
            "\n",
            "See the caveats in the documentation: https://pandas.pydata.org/pandas-docs/stable/user_guide/indexing.html#returning-a-view-versus-a-copy\n",
            "  after removing the cwd from sys.path.\n",
            "/usr/local/lib/python3.7/dist-packages/ipykernel_launcher.py:6: SettingWithCopyWarning: \n",
            "A value is trying to be set on a copy of a slice from a DataFrame\n",
            "\n",
            "See the caveats in the documentation: https://pandas.pydata.org/pandas-docs/stable/user_guide/indexing.html#returning-a-view-versus-a-copy\n",
            "  \n",
            "/usr/local/lib/python3.7/dist-packages/ipykernel_launcher.py:12: SettingWithCopyWarning: \n",
            "A value is trying to be set on a copy of a slice from a DataFrame\n",
            "\n",
            "See the caveats in the documentation: https://pandas.pydata.org/pandas-docs/stable/user_guide/indexing.html#returning-a-view-versus-a-copy\n",
            "  if sys.path[0] == '':\n",
            "/usr/local/lib/python3.7/dist-packages/ipykernel_launcher.py:29: SettingWithCopyWarning: \n",
            "A value is trying to be set on a copy of a slice from a DataFrame\n",
            "\n",
            "See the caveats in the documentation: https://pandas.pydata.org/pandas-docs/stable/user_guide/indexing.html#returning-a-view-versus-a-copy\n",
            "/usr/local/lib/python3.7/dist-packages/ipykernel_launcher.py:21: SettingWithCopyWarning: \n",
            "A value is trying to be set on a copy of a slice from a DataFrame\n",
            "\n",
            "See the caveats in the documentation: https://pandas.pydata.org/pandas-docs/stable/user_guide/indexing.html#returning-a-view-versus-a-copy\n",
            "/usr/local/lib/python3.7/dist-packages/ipykernel_launcher.py:19: SettingWithCopyWarning: \n",
            "A value is trying to be set on a copy of a slice from a DataFrame\n",
            "\n",
            "See the caveats in the documentation: https://pandas.pydata.org/pandas-docs/stable/user_guide/indexing.html#returning-a-view-versus-a-copy\n",
            "/usr/local/lib/python3.7/dist-packages/ipykernel_launcher.py:27: SettingWithCopyWarning: \n",
            "A value is trying to be set on a copy of a slice from a DataFrame\n",
            "\n",
            "See the caveats in the documentation: https://pandas.pydata.org/pandas-docs/stable/user_guide/indexing.html#returning-a-view-versus-a-copy\n",
            "/usr/local/lib/python3.7/dist-packages/ipykernel_launcher.py:23: SettingWithCopyWarning: \n",
            "A value is trying to be set on a copy of a slice from a DataFrame\n",
            "\n",
            "See the caveats in the documentation: https://pandas.pydata.org/pandas-docs/stable/user_guide/indexing.html#returning-a-view-versus-a-copy\n",
            "/usr/local/lib/python3.7/dist-packages/ipykernel_launcher.py:25: SettingWithCopyWarning: \n",
            "A value is trying to be set on a copy of a slice from a DataFrame\n",
            "\n",
            "See the caveats in the documentation: https://pandas.pydata.org/pandas-docs/stable/user_guide/indexing.html#returning-a-view-versus-a-copy\n"
          ],
          "name": "stderr"
        }
      ]
    },
    {
      "cell_type": "code",
      "metadata": {
        "id": "VsyEUb62lKl9"
      },
      "source": [
        ""
      ],
      "execution_count": null,
      "outputs": []
    },
    {
      "cell_type": "code",
      "metadata": {
        "colab": {
          "base_uri": "https://localhost:8080/"
        },
        "id": "ITrZ5eNKknj8",
        "outputId": "6c8d3ba3-74d2-47c2-b096-c6946f4e0d7e"
      },
      "source": [
        "data2['JF'].value_counts().head(5)"
      ],
      "execution_count": null,
      "outputs": [
        {
          "output_type": "execute_result",
          "data": {
            "text/plain": [
              "Nursing             28050\n",
              "Street Transit      20427\n",
              "Police Services     15676\n",
              "Journeyman Trade    15128\n",
              "Human Services      14482\n",
              "Name: JF, dtype: int64"
            ]
          },
          "metadata": {
            "tags": []
          },
          "execution_count": 52
        }
      ]
    },
    {
      "cell_type": "markdown",
      "metadata": {
        "id": "ptdclsxKv4rw"
      },
      "source": [
        "# **Job**"
      ]
    },
    {
      "cell_type": "code",
      "metadata": {
        "colab": {
          "base_uri": "https://localhost:8080/",
          "height": 350
        },
        "id": "MrmJSzznvsls",
        "outputId": "2df77f93-4012-48d4-a6d6-ed9b1c94a99d"
      },
      "source": [
        "sns.countplot(X_train['Job'])"
      ],
      "execution_count": null,
      "outputs": [
        {
          "output_type": "stream",
          "text": [
            "/usr/local/lib/python3.7/dist-packages/seaborn/_decorators.py:43: FutureWarning: Pass the following variable as a keyword arg: x. From version 0.12, the only valid positional argument will be `data`, and passing other arguments without an explicit keyword will result in an error or misinterpretation.\n",
            "  FutureWarning\n"
          ],
          "name": "stderr"
        },
        {
          "output_type": "execute_result",
          "data": {
            "text/plain": [
              "<matplotlib.axes._subplots.AxesSubplot at 0x7f95d46c1d50>"
            ]
          },
          "metadata": {
            "tags": []
          },
          "execution_count": 55
        },
        {
          "output_type": "display_data",
          "data": {
            "image/png": "[encoded data removed]",
            "text/plain": [
              "<Figure size 432x288 with 1 Axes>"
            ]
          },
          "metadata": {
            "tags": []
          }
        }
      ]
    },
    {
      "cell_type": "code",
      "metadata": {
        "colab": {
          "base_uri": "https://localhost:8080/"
        },
        "id": "O3urhnVtk9sj",
        "outputId": "b3952de0-2f82-47e6-d93c-c4e5cf7178c3"
      },
      "source": [
        "len(data2['Job'].unique())"
      ],
      "execution_count": null,
      "outputs": [
        {
          "output_type": "execute_result",
          "data": {
            "text/plain": [
              "1119"
            ]
          },
          "metadata": {
            "tags": []
          },
          "execution_count": 56
        }
      ]
    },
    {
      "cell_type": "markdown",
      "metadata": {
        "id": "H-AThvZev81a"
      },
      "source": [
        "# **YT**"
      ]
    },
    {
      "cell_type": "code",
      "metadata": {
        "colab": {
          "base_uri": "https://localhost:8080/",
          "height": 350
        },
        "id": "wZeMXE-ZrATQ",
        "outputId": "b577f0b9-3361-499e-a027-d5344183749b"
      },
      "source": [
        "sns.countplot(data2['YT'])"
      ],
      "execution_count": null,
      "outputs": [
        {
          "output_type": "stream",
          "text": [
            "/usr/local/lib/python3.7/dist-packages/seaborn/_decorators.py:43: FutureWarning: Pass the following variable as a keyword arg: x. From version 0.12, the only valid positional argument will be `data`, and passing other arguments without an explicit keyword will result in an error or misinterpretation.\n",
            "  FutureWarning\n"
          ],
          "name": "stderr"
        },
        {
          "output_type": "execute_result",
          "data": {
            "text/plain": [
              "<matplotlib.axes._subplots.AxesSubplot at 0x7f95d4586310>"
            ]
          },
          "metadata": {
            "tags": []
          },
          "execution_count": 57
        },
        {
          "output_type": "display_data",
          "data": {
            "image/png": "[encoded data removed]",
            "text/plain": [
              "<Figure size 432x288 with 1 Axes>"
            ]
          },
          "metadata": {
            "tags": []
          }
        }
      ]
    },
    {
      "cell_type": "code",
      "metadata": {
        "id": "jPimec7VrLIM"
      },
      "source": [
        "#X_train['YT'] = data2['YT'][:250000]\n",
        "#X_test['YT'] = data2['YT'][250000:]\n",
        "X_train['YT'] = X_train['YT'].replace('Calendar',1)\n",
        "X_train['YT'] = X_train['YT'].replace('Fiscal',0)\n",
        "X_test['YT'] = X_test['YT'].replace('Calendar',1)\n",
        "X_test['YT'] = X_test['YT'].replace('Fiscal',0)"
      ],
      "execution_count": null,
      "outputs": []
    },
    {
      "cell_type": "code",
      "metadata": {
        "id": "12llD6NmqOcW"
      },
      "source": [
        "X_train = X_train.drop(['Job','UC'],axis = 1)\n",
        "X_test = X_test.drop(['Job','UC'],axis = 1)"
      ],
      "execution_count": null,
      "outputs": []
    },
    {
      "cell_type": "code",
      "metadata": {
        "id": "TiLMe437tm3J"
      },
      "source": [
        "X_train = X_train.drop(['OG'],axis = 1)\n",
        "X_test = X_test.drop(['OG'],axis = 1)"
      ],
      "execution_count": null,
      "outputs": []
    },
    {
      "cell_type": "markdown",
      "metadata": {
        "id": "DfYT-oy5wVBX"
      },
      "source": [
        "# **6. Model Fitting and Cross Validation**"
      ]
    },
    {
      "cell_type": "code",
      "metadata": {
        "colab": {
          "base_uri": "https://localhost:8080/"
        },
        "id": "rz0iKiwrJu0Y",
        "outputId": "91faa1a8-7255-4e69-a9ad-3ce3c79c00f9"
      },
      "source": [
        "from sklearn.linear_model import LinearRegression\n",
        "from sklearn.metrics import mean_squared_error\n",
        "clf = LinearRegression()\n",
        "clf.fit(X_train,y_train)\n",
        "print(clf.score(X_test,y_test))\n",
        "print(np.sqrt(mean_squared_error(y_test,clf.predict(X_test))))"
      ],
      "execution_count": null,
      "outputs": [
        {
          "output_type": "stream",
          "text": [
            "0.9136187944921279\n",
            "18151.503030195465\n"
          ],
          "name": "stdout"
        }
      ]
    },
    {
      "cell_type": "code",
      "metadata": {
        "colab": {
          "base_uri": "https://localhost:8080/"
        },
        "id": "4cCniqALKjFl",
        "outputId": "383d697a-b99d-4854-c230-490c254fe6b4"
      },
      "source": [
        "from xgboost import XGBRegressor\n",
        "clf = XGBRegressor()\n",
        "X_train = np.array(X_train)\n",
        "y_train = np.array(y_train)\n",
        "X_test = np.array(X_test)\n",
        "y_test = np.array(y_test)\n",
        "clf.fit(X_train,y_train)\n",
        "print(clf.score(X_test,y_test))\n",
        "print(np.sqrt(mean_squared_error(y_test,clf.predict(X_test))))"
      ],
      "execution_count": null,
      "outputs": [
        {
          "output_type": "stream",
          "text": [
            "[16:39:11] WARNING: /workspace/src/objective/regression_obj.cu:152: reg:linear is now deprecated in favor of reg:squarederror.\n",
            "0.9867854378893024\n",
            "7099.525941933707\n"
          ],
          "name": "stdout"
        }
      ]
    },
    {
      "cell_type": "code",
      "metadata": {
        "colab": {
          "base_uri": "https://localhost:8080/"
        },
        "id": "mtyKYvcl1rMi",
        "outputId": "60facb61-6f51-420e-f04c-33ba58f2c28d"
      },
      "source": [
        "from sklearn import tree\n",
        "clf = tree.DecisionTreeRegressor()\n",
        "clf.fit(X_train,y_train)\n",
        "print(clf.score(X_test,y_test))\n",
        "print(np.sqrt(mean_squared_error(y_test,clf.predict(X_test))))"
      ],
      "execution_count": null,
      "outputs": [
        {
          "output_type": "stream",
          "text": [
            "0.9808292092648175\n",
            "8551.119496175066\n"
          ],
          "name": "stdout"
        }
      ]
    },
    {
      "cell_type": "code",
      "metadata": {
        "colab": {
          "base_uri": "https://localhost:8080/"
        },
        "id": "MYnn2MUM3Ed-",
        "outputId": "60735949-d187-4740-ffb7-0d342bc3094e"
      },
      "source": [
        "from sklearn.ensemble import RandomForestRegressor\n",
        "from sklearn.metrics import mean_absolute_error\n",
        "clf = RandomForestRegressor()\n",
        "clf.fit(X_train,y_train)\n",
        "print(clf.score(X_test,y_test))\n",
        "print(np.sqrt(mean_squared_error(y_test,clf.predict(X_test))))"
      ],
      "execution_count": null,
      "outputs": [
        {
          "output_type": "stream",
          "text": [
            "0.989722148912379\n",
            "6261.1502060193825\n"
          ],
          "name": "stdout"
        }
      ]
    },
    {
      "cell_type": "code",
      "metadata": {
        "colab": {
          "background_save": true
        },
        "id": "kGwjYBzXBFXu",
        "outputId": "622c57bf-13a6-43e5-c8b6-7b223423fef9"
      },
      "source": [
        "from sklearn.ensemble import RandomForestRegressor\n",
        "from sklearn.metrics import mean_absolute_error\n",
        "clf = RandomForestRegressor(n_estimators=226,min_samples_split=7,min_samples_leaf=6,max_depth=19)\n",
        "clf.fit(X_train,y_train)\n",
        "print(clf.score(X_test,y_test))\n",
        "print(mean_absolute_error(y_test,clf.predict(X_test)))"
      ],
      "execution_count": null,
      "outputs": [
        {
          "output_type": "stream",
          "text": [
            "0.9891199521237489\n",
            "3067.4062725386416\n"
          ],
          "name": "stdout"
        }
      ]
    },
    {
      "cell_type": "code",
      "metadata": {
        "colab": {
          "background_save": true
        },
        "id": "yzR5xSmh6LIU",
        "outputId": "85424fa4-6d1e-4535-e269-1a16d91a596a"
      },
      "source": [
        "from lightgbm import LGBMRegressor\n",
        "clf = LGBMRegressor()\n",
        "clf.fit(X_train,y_train)\n",
        "print(clf.score(X_test,y_test))\n",
        "print(mean_absolute_error(y_test,clf.predict(X_test)))"
      ],
      "execution_count": null,
      "outputs": [
        {
          "output_type": "stream",
          "text": [
            "0.9886904014615181\n",
            "3333.256020836208\n"
          ],
          "name": "stdout"
        }
      ]
    },
    {
      "cell_type": "code",
      "metadata": {
        "colab": {
          "background_save": true
        },
        "id": "MJ6WIUfkbVrg",
        "outputId": "802a920f-889e-4831-c428-fae0b19d98cd"
      },
      "source": [
        "from sklearn.neighbors import KNeighborsRegressor\n",
        "clf = KNeighborsRegressor(n_neighbors=3)\n",
        "clf.fit(X_train,y_train)\n",
        "print(clf.score(X_test,y_test))\n",
        "print(mean_absolute_error(y_test,clf.predict(X_test)))"
      ],
      "execution_count": null,
      "outputs": [
        {
          "output_type": "stream",
          "text": [
            "0.6637244148566124\n",
            "24357.81179007354\n"
          ],
          "name": "stdout"
        }
      ]
    },
    {
      "cell_type": "markdown",
      "metadata": {
        "id": "uFGCgnKDwo8g"
      },
      "source": [
        "# **Training On Whole Data**"
      ]
    },
    {
      "cell_type": "code",
      "metadata": {
        "colab": {
          "background_save": true
        },
        "id": "ow6ZL3IYdiuF"
      },
      "source": [
        "X = data1.drop(['Total_Compensation'],axis = 1)\n",
        "y = data1['Total_Compensation']"
      ],
      "execution_count": null,
      "outputs": []
    },
    {
      "cell_type": "code",
      "metadata": {
        "colab": {
          "background_save": true
        },
        "id": "gVb0DVapdhKL",
        "outputId": "62986608-38fd-4cb6-e214-43be48586f48"
      },
      "source": [
        "from sklearn.preprocessing import FunctionTransformer\n",
        "transformer = FunctionTransformer(np.cbrt)\n",
        "X['Salaries'] = transformer.transform(X['Salaries'])\n",
        "\n",
        "from sklearn.preprocessing import FunctionTransformer\n",
        "transformer = FunctionTransformer(np.cbrt)\n",
        "X['Overtime'] = transformer.transform(X['Overtime'])\n",
        "\n",
        "X['Year'] = X['Year'].replace(2014,1)\n",
        "X['Year'] = X['Year'].replace(2015,2)\n",
        "X['Year'] = X['Year'].replace(2013,3)\n",
        "X['Year'] = X['Year'].replace(2016,4)\n",
        "\n",
        "X['OGC'] = X['OGC'].replace(1,129115.2378543919)\n",
        "X['OGC'] = X['OGC'].replace(2,98858.91005560878)\n",
        "X['OGC'] = X['OGC'].replace(3,71973.86071036868)\n",
        "X['OGC'] = X['OGC'].replace(4,98087.08513993588)\n",
        "X['OGC'] = X['OGC'].replace(5,55903.93974971559)\n",
        "X['OGC'] = X['OGC'].replace(6,96777.55701658902)\n",
        "X['OGC'] = X['OGC'].replace(7,27393.85802469136)\n",
        "\n",
        "dict1 = {'Community Health': [5658191142, 57687], 'General Administration & Finance': [2233205427, 23050], 'Public Works, Transportation & Commerce': [7955189038, 80438], 'Human Welfare & Neighborhood Development': [1695122309, 23628], 'Culture & Recreation': [1221522578, 21926], 'Public Protection': [5565980872, 43110], 'General City Responsibilities': [4434006, 161]}\n",
        "for i in dict1:\n",
        "  X['OG'] = X['OG'].replace(i,dict1[i][0]/dict1[i][1])\n",
        "\n",
        "idx1 = X.index\n",
        "for i in idx1:\n",
        "  if(X['DC'][i] == \"DPH\"):\n",
        "    X['DC'][i] = 5\n",
        "  elif(X['DC'][i] == \"MTA\"):\n",
        "    X['DC'][i] = 4\n",
        "  elif(X['DC'][i] == \"DSS\"):\n",
        "    X['DC'][i] = 3\n",
        "  elif(X['DC'][i] == \"POL\"):\n",
        "    X['DC'][i] = 2\n",
        "  elif(X['DC'][i] == \"REC\"):\n",
        "    X['DC'][i] = 1\n",
        "  else:\n",
        "    X['DC'][i] = 0\n",
        "\n",
        "idx1 = X.index\n",
        "for i in idx1:\n",
        "  if(X['Dept'][i] == \"Public Health\"):\n",
        "    X['Dept'][i] = 5\n",
        "  elif(X['Dept'][i] == \"Municipal Transportation Agency\"):\n",
        "    X['Dept'][i] = 4\n",
        "  elif(X['Dept'][i] == \"Human Services\"):\n",
        "    X['Dept'][i] = 3\n",
        "  elif(X['Dept'][i] == \"Police\"):\n",
        "    X['Dept'][i] = 2\n",
        "  elif(X['Dept'][i] == \"Recreation and Park Commission\"):\n",
        "    X['Dept'][i] = 1\n",
        "  else:\n",
        "    X['Dept'][i] = 0\n",
        "\n",
        "idx1 = X.index\n",
        "for i in idx1:\n",
        "  if(X['Union'][i] == \"SEIU - Miscellaneous, Local 1021\"):\n",
        "    X['Union'][i] = 5\n",
        "  elif(X['Union'][i] == \"Prof & Tech Engineers - Miscellaneous, Local 21\"):\n",
        "    X['Union'][i] = 4\n",
        "  elif(X['Union'][i] == \"SEIU - Staff and Per Diem Nurses, Local 1021\"):\n",
        "    X['Union'][i] = 3\n",
        "  elif(X['Union'][i] == \"Police Officers' Association\"):\n",
        "    X['Union'][i] = 2\n",
        "  elif(X['Union'][i] == \"SEIU - Health Workers, Local 1021\"):\n",
        "    X['Union'][i] = 1\n",
        "  else:\n",
        "    X['Union'][i] = 0\n",
        "\n",
        "idx1 = X.index\n",
        "for i in idx1:\n",
        "  if(X['JF'][i] == \"Nursing\"):\n",
        "    X['JF'][i] = 5\n",
        "  elif(X['JF'][i] == \"Street Transit\"):\n",
        "    X['JF'][i] = 4\n",
        "  elif(X['JF'][i] == \"Police Services\"):\n",
        "    X['JF'][i] = 3\n",
        "  elif(X['JF'][i] == \"Journeyman Trade\"):\n",
        "    X['JF'][i] = 2\n",
        "  elif(X['JF'][i] == \"Human Services\"):\n",
        "    X['JF'][i] = 1\n",
        "  else:\n",
        "    X['JF'][i] = 0\n",
        "\n",
        "X['YT'] = X['YT'].replace('Calendar',1)\n",
        "X['YT'] = X['YT'].replace('Fiscal',0)\n",
        "#y = np.cbrt(y)\n",
        "idx = X.index\n",
        "for i in idx:\n",
        "  if(X['Salaries'][i]<0):\n",
        "    X['Salaries'][i] = 0\n",
        "\n",
        "for i in idx:\n",
        "  if(X['Overtime'][i]<0):\n",
        "    X['Overtime'][i] = 0\n",
        "\n",
        "for i in idx:\n",
        "  if(X['H/D'][i]<0):\n",
        "    X['H/D'][i] = 0\n",
        "\n",
        "X = X.drop(['Job','UC','OG'],axis = 1)"
      ],
      "execution_count": null,
      "outputs": [
        {
          "output_type": "stream",
          "text": [
            "/usr/local/lib/python3.7/dist-packages/ipykernel_launcher.py:29: SettingWithCopyWarning: \n",
            "A value is trying to be set on a copy of a slice from a DataFrame\n",
            "\n",
            "See the caveats in the documentation: https://pandas.pydata.org/pandas-docs/stable/user_guide/indexing.html#returning-a-view-versus-a-copy\n",
            "/usr/local/lib/python3.7/dist-packages/ipykernel_launcher.py:39: SettingWithCopyWarning: \n",
            "A value is trying to be set on a copy of a slice from a DataFrame\n",
            "\n",
            "See the caveats in the documentation: https://pandas.pydata.org/pandas-docs/stable/user_guide/indexing.html#returning-a-view-versus-a-copy\n",
            "/usr/local/lib/python3.7/dist-packages/ipykernel_launcher.py:35: SettingWithCopyWarning: \n",
            "A value is trying to be set on a copy of a slice from a DataFrame\n",
            "\n",
            "See the caveats in the documentation: https://pandas.pydata.org/pandas-docs/stable/user_guide/indexing.html#returning-a-view-versus-a-copy\n",
            "/usr/local/lib/python3.7/dist-packages/ipykernel_launcher.py:33: SettingWithCopyWarning: \n",
            "A value is trying to be set on a copy of a slice from a DataFrame\n",
            "\n",
            "See the caveats in the documentation: https://pandas.pydata.org/pandas-docs/stable/user_guide/indexing.html#returning-a-view-versus-a-copy\n",
            "/usr/local/lib/python3.7/dist-packages/ipykernel_launcher.py:31: SettingWithCopyWarning: \n",
            "A value is trying to be set on a copy of a slice from a DataFrame\n",
            "\n",
            "See the caveats in the documentation: https://pandas.pydata.org/pandas-docs/stable/user_guide/indexing.html#returning-a-view-versus-a-copy\n",
            "/usr/local/lib/python3.7/dist-packages/ipykernel_launcher.py:37: SettingWithCopyWarning: \n",
            "A value is trying to be set on a copy of a slice from a DataFrame\n",
            "\n",
            "See the caveats in the documentation: https://pandas.pydata.org/pandas-docs/stable/user_guide/indexing.html#returning-a-view-versus-a-copy\n",
            "/usr/local/lib/python3.7/dist-packages/ipykernel_launcher.py:44: SettingWithCopyWarning: \n",
            "A value is trying to be set on a copy of a slice from a DataFrame\n",
            "\n",
            "See the caveats in the documentation: https://pandas.pydata.org/pandas-docs/stable/user_guide/indexing.html#returning-a-view-versus-a-copy\n",
            "/usr/local/lib/python3.7/dist-packages/ipykernel_launcher.py:54: SettingWithCopyWarning: \n",
            "A value is trying to be set on a copy of a slice from a DataFrame\n",
            "\n",
            "See the caveats in the documentation: https://pandas.pydata.org/pandas-docs/stable/user_guide/indexing.html#returning-a-view-versus-a-copy\n",
            "/usr/local/lib/python3.7/dist-packages/ipykernel_launcher.py:50: SettingWithCopyWarning: \n",
            "A value is trying to be set on a copy of a slice from a DataFrame\n",
            "\n",
            "See the caveats in the documentation: https://pandas.pydata.org/pandas-docs/stable/user_guide/indexing.html#returning-a-view-versus-a-copy\n",
            "/usr/local/lib/python3.7/dist-packages/ipykernel_launcher.py:48: SettingWithCopyWarning: \n",
            "A value is trying to be set on a copy of a slice from a DataFrame\n",
            "\n",
            "See the caveats in the documentation: https://pandas.pydata.org/pandas-docs/stable/user_guide/indexing.html#returning-a-view-versus-a-copy\n",
            "/usr/local/lib/python3.7/dist-packages/ipykernel_launcher.py:46: SettingWithCopyWarning: \n",
            "A value is trying to be set on a copy of a slice from a DataFrame\n",
            "\n",
            "See the caveats in the documentation: https://pandas.pydata.org/pandas-docs/stable/user_guide/indexing.html#returning-a-view-versus-a-copy\n",
            "/usr/local/lib/python3.7/dist-packages/ipykernel_launcher.py:52: SettingWithCopyWarning: \n",
            "A value is trying to be set on a copy of a slice from a DataFrame\n",
            "\n",
            "See the caveats in the documentation: https://pandas.pydata.org/pandas-docs/stable/user_guide/indexing.html#returning-a-view-versus-a-copy\n",
            "/usr/local/lib/python3.7/dist-packages/ipykernel_launcher.py:67: SettingWithCopyWarning: \n",
            "A value is trying to be set on a copy of a slice from a DataFrame\n",
            "\n",
            "See the caveats in the documentation: https://pandas.pydata.org/pandas-docs/stable/user_guide/indexing.html#returning-a-view-versus-a-copy\n",
            "/usr/local/lib/python3.7/dist-packages/ipykernel_launcher.py:69: SettingWithCopyWarning: \n",
            "A value is trying to be set on a copy of a slice from a DataFrame\n",
            "\n",
            "See the caveats in the documentation: https://pandas.pydata.org/pandas-docs/stable/user_guide/indexing.html#returning-a-view-versus-a-copy\n",
            "/usr/local/lib/python3.7/dist-packages/ipykernel_launcher.py:61: SettingWithCopyWarning: \n",
            "A value is trying to be set on a copy of a slice from a DataFrame\n",
            "\n",
            "See the caveats in the documentation: https://pandas.pydata.org/pandas-docs/stable/user_guide/indexing.html#returning-a-view-versus-a-copy\n",
            "/usr/local/lib/python3.7/dist-packages/ipykernel_launcher.py:65: SettingWithCopyWarning: \n",
            "A value is trying to be set on a copy of a slice from a DataFrame\n",
            "\n",
            "See the caveats in the documentation: https://pandas.pydata.org/pandas-docs/stable/user_guide/indexing.html#returning-a-view-versus-a-copy\n",
            "/usr/local/lib/python3.7/dist-packages/ipykernel_launcher.py:59: SettingWithCopyWarning: \n",
            "A value is trying to be set on a copy of a slice from a DataFrame\n",
            "\n",
            "See the caveats in the documentation: https://pandas.pydata.org/pandas-docs/stable/user_guide/indexing.html#returning-a-view-versus-a-copy\n",
            "/usr/local/lib/python3.7/dist-packages/ipykernel_launcher.py:63: SettingWithCopyWarning: \n",
            "A value is trying to be set on a copy of a slice from a DataFrame\n",
            "\n",
            "See the caveats in the documentation: https://pandas.pydata.org/pandas-docs/stable/user_guide/indexing.html#returning-a-view-versus-a-copy\n",
            "/usr/local/lib/python3.7/dist-packages/ipykernel_launcher.py:84: SettingWithCopyWarning: \n",
            "A value is trying to be set on a copy of a slice from a DataFrame\n",
            "\n",
            "See the caveats in the documentation: https://pandas.pydata.org/pandas-docs/stable/user_guide/indexing.html#returning-a-view-versus-a-copy\n",
            "/usr/local/lib/python3.7/dist-packages/ipykernel_launcher.py:80: SettingWithCopyWarning: \n",
            "A value is trying to be set on a copy of a slice from a DataFrame\n",
            "\n",
            "See the caveats in the documentation: https://pandas.pydata.org/pandas-docs/stable/user_guide/indexing.html#returning-a-view-versus-a-copy\n",
            "/usr/local/lib/python3.7/dist-packages/ipykernel_launcher.py:78: SettingWithCopyWarning: \n",
            "A value is trying to be set on a copy of a slice from a DataFrame\n",
            "\n",
            "See the caveats in the documentation: https://pandas.pydata.org/pandas-docs/stable/user_guide/indexing.html#returning-a-view-versus-a-copy\n",
            "/usr/local/lib/python3.7/dist-packages/ipykernel_launcher.py:74: SettingWithCopyWarning: \n",
            "A value is trying to be set on a copy of a slice from a DataFrame\n",
            "\n",
            "See the caveats in the documentation: https://pandas.pydata.org/pandas-docs/stable/user_guide/indexing.html#returning-a-view-versus-a-copy\n",
            "/usr/local/lib/python3.7/dist-packages/ipykernel_launcher.py:76: SettingWithCopyWarning: \n",
            "A value is trying to be set on a copy of a slice from a DataFrame\n",
            "\n",
            "See the caveats in the documentation: https://pandas.pydata.org/pandas-docs/stable/user_guide/indexing.html#returning-a-view-versus-a-copy\n",
            "/usr/local/lib/python3.7/dist-packages/ipykernel_launcher.py:82: SettingWithCopyWarning: \n",
            "A value is trying to be set on a copy of a slice from a DataFrame\n",
            "\n",
            "See the caveats in the documentation: https://pandas.pydata.org/pandas-docs/stable/user_guide/indexing.html#returning-a-view-versus-a-copy\n",
            "/usr/local/lib/python3.7/dist-packages/ipykernel_launcher.py:92: SettingWithCopyWarning: \n",
            "A value is trying to be set on a copy of a slice from a DataFrame\n",
            "\n",
            "See the caveats in the documentation: https://pandas.pydata.org/pandas-docs/stable/user_guide/indexing.html#returning-a-view-versus-a-copy\n",
            "/usr/local/lib/python3.7/dist-packages/ipykernel_launcher.py:96: SettingWithCopyWarning: \n",
            "A value is trying to be set on a copy of a slice from a DataFrame\n",
            "\n",
            "See the caveats in the documentation: https://pandas.pydata.org/pandas-docs/stable/user_guide/indexing.html#returning-a-view-versus-a-copy\n",
            "/usr/local/lib/python3.7/dist-packages/ipykernel_launcher.py:100: SettingWithCopyWarning: \n",
            "A value is trying to be set on a copy of a slice from a DataFrame\n",
            "\n",
            "See the caveats in the documentation: https://pandas.pydata.org/pandas-docs/stable/user_guide/indexing.html#returning-a-view-versus-a-copy\n"
          ],
          "name": "stderr"
        }
      ]
    },
    {
      "cell_type": "code",
      "metadata": {
        "colab": {
          "background_save": true
        },
        "id": "5aWe8jBDfGe4",
        "outputId": "f86ebf3b-96d1-4ddd-de80-bc43ca05a8a9"
      },
      "source": [
        "from sklearn.ensemble import RandomForestRegressor\n",
        "clf = RandomForestRegressor(n_estimators=226,min_samples_split=7,min_samples_leaf=6,max_depth=19)\n",
        "clf.fit(X,y)\n",
        "print(clf.score(X_test,y_test))\n",
        "print(mean_absolute_error(np.power(y_test,3),np.power(clf.predict(X_test),3)))"
      ],
      "execution_count": null,
      "outputs": [
        {
          "output_type": "stream",
          "text": [
            "0.993047114837216\n",
            "143296999895625.47\n"
          ],
          "name": "stdout"
        }
      ]
    },
    {
      "cell_type": "markdown",
      "metadata": {
        "id": "uAEZCGY2w7Ok"
      },
      "source": [
        "# **Prediction on Test Dataset**"
      ]
    },
    {
      "cell_type": "code",
      "metadata": {
        "colab": {
          "background_save": true
        },
        "id": "UEn5tYwoLjzN",
        "outputId": "66af41ab-c377-4e6b-d7eb-00fe40add9fc"
      },
      "source": [
        "data4 = pd.read_csv(\"test_set.csv\")\n",
        "data4.head()"
      ],
      "execution_count": null,
      "outputs": [
        {
          "output_type": "execute_result",
          "data": {
            "text/html": [
              "<div>\n",
              "<style scoped>\n",
              "    .dataframe tbody tr th:only-of-type {\n",
              "        vertical-align: middle;\n",
              "    }\n",
              "\n",
              "    .dataframe tbody tr th {\n",
              "        vertical-align: top;\n",
              "    }\n",
              "\n",
              "    .dataframe thead th {\n",
              "        text-align: right;\n",
              "    }\n",
              "</style>\n",
              "<table border=\"1\" class=\"dataframe\">\n",
              "  <thead>\n",
              "    <tr style=\"text-align: right;\">\n",
              "      <th></th>\n",
              "      <th>Year</th>\n",
              "      <th>OGC</th>\n",
              "      <th>OG</th>\n",
              "      <th>DC</th>\n",
              "      <th>Dept</th>\n",
              "      <th>UC</th>\n",
              "      <th>Union</th>\n",
              "      <th>JF</th>\n",
              "      <th>Job</th>\n",
              "      <th>EI</th>\n",
              "      <th>Salaries</th>\n",
              "      <th>Overtime</th>\n",
              "      <th>H/D</th>\n",
              "      <th>YT</th>\n",
              "    </tr>\n",
              "  </thead>\n",
              "  <tbody>\n",
              "    <tr>\n",
              "      <th>0</th>\n",
              "      <td>2016</td>\n",
              "      <td>2</td>\n",
              "      <td>Public Works, Transportation &amp; Commerce</td>\n",
              "      <td>AIR</td>\n",
              "      <td>Airport Commission</td>\n",
              "      <td>790</td>\n",
              "      <td>SEIU - Miscellaneous, Local 1021</td>\n",
              "      <td>Budget, Admn &amp; Stats Analysis</td>\n",
              "      <td>Management Assistant</td>\n",
              "      <td>6161</td>\n",
              "      <td>74526</td>\n",
              "      <td>0</td>\n",
              "      <td>13068.800000</td>\n",
              "      <td>Fiscal</td>\n",
              "    </tr>\n",
              "    <tr>\n",
              "      <th>1</th>\n",
              "      <td>2013</td>\n",
              "      <td>3</td>\n",
              "      <td>Human Welfare &amp; Neighborhood Development</td>\n",
              "      <td>DSS</td>\n",
              "      <td>Human Services</td>\n",
              "      <td>1</td>\n",
              "      <td>Miscellaneous Unrepresented Employees</td>\n",
              "      <td>Public Service Aide</td>\n",
              "      <td>Public Svc Aide-Public Works</td>\n",
              "      <td>17890</td>\n",
              "      <td>7219</td>\n",
              "      <td>0</td>\n",
              "      <td>3328.053046</td>\n",
              "      <td>Calendar</td>\n",
              "    </tr>\n",
              "    <tr>\n",
              "      <th>2</th>\n",
              "      <td>2016</td>\n",
              "      <td>2</td>\n",
              "      <td>Public Works, Transportation &amp; Commerce</td>\n",
              "      <td>PUC</td>\n",
              "      <td>PUC Public Utilities Commission</td>\n",
              "      <td>21</td>\n",
              "      <td>Prof &amp; Tech Engineers - Miscellaneous, Local 21</td>\n",
              "      <td>Sub-Professional Engineering</td>\n",
              "      <td>Stdntdsgntrain1, Arch/Eng/Plng</td>\n",
              "      <td>15092</td>\n",
              "      <td>4616</td>\n",
              "      <td>0</td>\n",
              "      <td>1147.260000</td>\n",
              "      <td>Fiscal</td>\n",
              "    </tr>\n",
              "    <tr>\n",
              "      <th>3</th>\n",
              "      <td>2015</td>\n",
              "      <td>3</td>\n",
              "      <td>Human Welfare &amp; Neighborhood Development</td>\n",
              "      <td>DSS</td>\n",
              "      <td>Human Services</td>\n",
              "      <td>535</td>\n",
              "      <td>SEIU - Human Services, Local 1021</td>\n",
              "      <td>Human Services</td>\n",
              "      <td>Eligibility Worker</td>\n",
              "      <td>5144</td>\n",
              "      <td>6345</td>\n",
              "      <td>0</td>\n",
              "      <td>1433.600000</td>\n",
              "      <td>Calendar</td>\n",
              "    </tr>\n",
              "    <tr>\n",
              "      <th>4</th>\n",
              "      <td>2015</td>\n",
              "      <td>2</td>\n",
              "      <td>Public Works, Transportation &amp; Commerce</td>\n",
              "      <td>HHP</td>\n",
              "      <td>PUC Hetch Hetchy</td>\n",
              "      <td>6</td>\n",
              "      <td>Electrical Workers, Local 6</td>\n",
              "      <td>Journeyman Trade</td>\n",
              "      <td>Trans And Dist Line Worker</td>\n",
              "      <td>40128</td>\n",
              "      <td>105851</td>\n",
              "      <td>153</td>\n",
              "      <td>12242.440000</td>\n",
              "      <td>Calendar</td>\n",
              "    </tr>\n",
              "  </tbody>\n",
              "</table>\n",
              "</div>"
            ],
            "text/plain": [
              "   Year  OGC  ...           H/D        YT\n",
              "0  2016    2  ...  13068.800000    Fiscal\n",
              "1  2013    3  ...   3328.053046  Calendar\n",
              "2  2016    2  ...   1147.260000    Fiscal\n",
              "3  2015    3  ...   1433.600000  Calendar\n",
              "4  2015    2  ...  12242.440000  Calendar\n",
              "\n",
              "[5 rows x 14 columns]"
            ]
          },
          "metadata": {
            "tags": []
          },
          "execution_count": 0
        }
      ]
    },
    {
      "cell_type": "code",
      "metadata": {
        "colab": {
          "background_save": true
        },
        "id": "_h1khrk7vyG7",
        "outputId": "1fd34114-49f1-4f93-ea9b-e677f5e5c5f5"
      },
      "source": [
        "from sklearn.preprocessing import FunctionTransformer\n",
        "transformer = FunctionTransformer(np.cbrt)\n",
        "data4['Salaries'] = transformer.transform(data4['Salaries'])\n",
        "\n",
        "from sklearn.preprocessing import FunctionTransformer\n",
        "transformer = FunctionTransformer(np.cbrt)\n",
        "data4['Overtime'] = transformer.transform(data4['Overtime'])\n",
        "\n",
        "data4['Year'] = data4['Year'].replace(2014,1)\n",
        "data4['Year'] = data4['Year'].replace(2015,2)\n",
        "data4['Year'] = data4['Year'].replace(2013,3)\n",
        "data4['Year'] = data4['Year'].replace(2016,4)\n",
        "\n",
        "data4['OGC'] = data4['OGC'].replace(1,129115.2378543919)\n",
        "data4['OGC'] = data4['OGC'].replace(2,98858.91005560878)\n",
        "data4['OGC'] = data4['OGC'].replace(3,71973.86071036868)\n",
        "data4['OGC'] = data4['OGC'].replace(4,98087.08513993588)\n",
        "data4['OGC'] = data4['OGC'].replace(5,55903.93974971559)\n",
        "data4['OGC'] = data4['OGC'].replace(6,96777.55701658902)\n",
        "data4['OGC'] = data4['OGC'].replace(7,27393.85802469136)\n",
        "\n",
        "dict1 = {'Community Health': [5658191142, 57687], 'General Administration & Finance': [2233205427, 23050], 'Public Works, Transportation & Commerce': [7955189038, 80438], 'Human Welfare & Neighborhood Development': [1695122309, 23628], 'Culture & Recreation': [1221522578, 21926], 'Public Protection': [5565980872, 43110], 'General City Responsibilities': [4434006, 161]}\n",
        "for i in dict1:\n",
        "  data4['OG'] = data4['OG'].replace(i,dict1[i][0]/dict1[i][1])\n",
        "\n",
        "idx1 = data4.index\n",
        "for i in idx1:\n",
        "  if(data4['DC'][i] == \"DPH\"):\n",
        "    data4['DC'][i] = 5\n",
        "  elif(data4['DC'][i] == \"MTA\"):\n",
        "    data4['DC'][i] = 4\n",
        "  elif(data4['DC'][i] == \"DSS\"):\n",
        "    data4['DC'][i] = 3\n",
        "  elif(data4['DC'][i] == \"POL\"):\n",
        "    data4['DC'][i] = 2\n",
        "  elif(data4['DC'][i] == \"REC\"):\n",
        "    data4['DC'][i] = 1\n",
        "  else:\n",
        "    data4['DC'][i] = 0\n",
        "\n",
        "idx1 = data4.index\n",
        "for i in idx1:\n",
        "  if(data4['Dept'][i] == \"Public Health\"):\n",
        "    data4['Dept'][i] = 5\n",
        "  elif(data4['Dept'][i] == \"Municipal Transportation Agency\"):\n",
        "    data4['Dept'][i] = 4\n",
        "  elif(data4['Dept'][i] == \"Human Services\"):\n",
        "    data4['Dept'][i] = 3\n",
        "  elif(data4['Dept'][i] == \"Police\"):\n",
        "    data4['Dept'][i] = 2\n",
        "  elif(data4['Dept'][i] == \"Recreation and Park Commission\"):\n",
        "    data4['Dept'][i] = 1\n",
        "  else:\n",
        "    data4['Dept'][i] = 0\n",
        "\n",
        "idx1 = data4.index\n",
        "for i in idx1:\n",
        "  if(data4['Union'][i] == \"SEIU - Miscellaneous, Local 1021\"):\n",
        "    data4['Union'][i] = 5\n",
        "  elif(data4['Union'][i] == \"Prof & Tech Engineers - Miscellaneous, Local 21\"):\n",
        "    data4['Union'][i] = 4\n",
        "  elif(data4['Union'][i] == \"SEIU - Staff and Per Diem Nurses, Local 1021\"):\n",
        "    data4['Union'][i] = 3\n",
        "  elif(data4['Union'][i] == \"Police Officers' Association\"):\n",
        "    data4['Union'][i] = 2\n",
        "  elif(data4['Union'][i] == \"SEIU - Health Workers, Local 1021\"):\n",
        "    data4['Union'][i] = 1\n",
        "  else:\n",
        "    data4['Union'][i] = 0\n",
        "\n",
        "idx1 = data4.index\n",
        "for i in idx1:\n",
        "  if(data4['JF'][i] == \"Nursing\"):\n",
        "    data4['JF'][i] = 5\n",
        "  elif(data4['JF'][i] == \"Street Transit\"):\n",
        "    data4['JF'][i] = 4\n",
        "  elif(data4['JF'][i] == \"Police Services\"):\n",
        "    data4['JF'][i] = 3\n",
        "  elif(data4['JF'][i] == \"Journeyman Trade\"):\n",
        "    data4['JF'][i] = 2\n",
        "  elif(data4['JF'][i] == \"Human Services\"):\n",
        "    data4['JF'][i] = 1\n",
        "  else:\n",
        "    data4['JF'][i] = 0\n",
        "\n",
        "data4['YT'] = data4['YT'].replace('Calendar',1)\n",
        "data4['YT'] = data4['YT'].replace('Fiscal',0)\n",
        "\n",
        "data4 = data4.drop(['Job','UC','OG'],axis = 1)"
      ],
      "execution_count": null,
      "outputs": [
        {
          "output_type": "stream",
          "text": [
            "/usr/local/lib/python3.7/dist-packages/ipykernel_launcher.py:39: SettingWithCopyWarning: \n",
            "A value is trying to be set on a copy of a slice from a DataFrame\n",
            "\n",
            "See the caveats in the documentation: https://pandas.pydata.org/pandas-docs/stable/user_guide/indexing.html#returning-a-view-versus-a-copy\n",
            "/usr/local/lib/python3.7/dist-packages/ipykernel_launcher.py:33: SettingWithCopyWarning: \n",
            "A value is trying to be set on a copy of a slice from a DataFrame\n",
            "\n",
            "See the caveats in the documentation: https://pandas.pydata.org/pandas-docs/stable/user_guide/indexing.html#returning-a-view-versus-a-copy\n",
            "/usr/local/lib/python3.7/dist-packages/ipykernel_launcher.py:31: SettingWithCopyWarning: \n",
            "A value is trying to be set on a copy of a slice from a DataFrame\n",
            "\n",
            "See the caveats in the documentation: https://pandas.pydata.org/pandas-docs/stable/user_guide/indexing.html#returning-a-view-versus-a-copy\n",
            "/usr/local/lib/python3.7/dist-packages/ipykernel_launcher.py:29: SettingWithCopyWarning: \n",
            "A value is trying to be set on a copy of a slice from a DataFrame\n",
            "\n",
            "See the caveats in the documentation: https://pandas.pydata.org/pandas-docs/stable/user_guide/indexing.html#returning-a-view-versus-a-copy\n",
            "/usr/local/lib/python3.7/dist-packages/ipykernel_launcher.py:37: SettingWithCopyWarning: \n",
            "A value is trying to be set on a copy of a slice from a DataFrame\n",
            "\n",
            "See the caveats in the documentation: https://pandas.pydata.org/pandas-docs/stable/user_guide/indexing.html#returning-a-view-versus-a-copy\n",
            "/usr/local/lib/python3.7/dist-packages/ipykernel_launcher.py:35: SettingWithCopyWarning: \n",
            "A value is trying to be set on a copy of a slice from a DataFrame\n",
            "\n",
            "See the caveats in the documentation: https://pandas.pydata.org/pandas-docs/stable/user_guide/indexing.html#returning-a-view-versus-a-copy\n",
            "/usr/local/lib/python3.7/dist-packages/ipykernel_launcher.py:54: SettingWithCopyWarning: \n",
            "A value is trying to be set on a copy of a slice from a DataFrame\n",
            "\n",
            "See the caveats in the documentation: https://pandas.pydata.org/pandas-docs/stable/user_guide/indexing.html#returning-a-view-versus-a-copy\n",
            "/usr/local/lib/python3.7/dist-packages/ipykernel_launcher.py:48: SettingWithCopyWarning: \n",
            "A value is trying to be set on a copy of a slice from a DataFrame\n",
            "\n",
            "See the caveats in the documentation: https://pandas.pydata.org/pandas-docs/stable/user_guide/indexing.html#returning-a-view-versus-a-copy\n",
            "/usr/local/lib/python3.7/dist-packages/ipykernel_launcher.py:46: SettingWithCopyWarning: \n",
            "A value is trying to be set on a copy of a slice from a DataFrame\n",
            "\n",
            "See the caveats in the documentation: https://pandas.pydata.org/pandas-docs/stable/user_guide/indexing.html#returning-a-view-versus-a-copy\n",
            "/usr/local/lib/python3.7/dist-packages/ipykernel_launcher.py:44: SettingWithCopyWarning: \n",
            "A value is trying to be set on a copy of a slice from a DataFrame\n",
            "\n",
            "See the caveats in the documentation: https://pandas.pydata.org/pandas-docs/stable/user_guide/indexing.html#returning-a-view-versus-a-copy\n",
            "/usr/local/lib/python3.7/dist-packages/ipykernel_launcher.py:52: SettingWithCopyWarning: \n",
            "A value is trying to be set on a copy of a slice from a DataFrame\n",
            "\n",
            "See the caveats in the documentation: https://pandas.pydata.org/pandas-docs/stable/user_guide/indexing.html#returning-a-view-versus-a-copy\n",
            "/usr/local/lib/python3.7/dist-packages/ipykernel_launcher.py:50: SettingWithCopyWarning: \n",
            "A value is trying to be set on a copy of a slice from a DataFrame\n",
            "\n",
            "See the caveats in the documentation: https://pandas.pydata.org/pandas-docs/stable/user_guide/indexing.html#returning-a-view-versus-a-copy\n",
            "/usr/local/lib/python3.7/dist-packages/ipykernel_launcher.py:59: SettingWithCopyWarning: \n",
            "A value is trying to be set on a copy of a slice from a DataFrame\n",
            "\n",
            "See the caveats in the documentation: https://pandas.pydata.org/pandas-docs/stable/user_guide/indexing.html#returning-a-view-versus-a-copy\n",
            "/usr/local/lib/python3.7/dist-packages/ipykernel_launcher.py:69: SettingWithCopyWarning: \n",
            "A value is trying to be set on a copy of a slice from a DataFrame\n",
            "\n",
            "See the caveats in the documentation: https://pandas.pydata.org/pandas-docs/stable/user_guide/indexing.html#returning-a-view-versus-a-copy\n",
            "/usr/local/lib/python3.7/dist-packages/ipykernel_launcher.py:61: SettingWithCopyWarning: \n",
            "A value is trying to be set on a copy of a slice from a DataFrame\n",
            "\n",
            "See the caveats in the documentation: https://pandas.pydata.org/pandas-docs/stable/user_guide/indexing.html#returning-a-view-versus-a-copy\n",
            "/usr/local/lib/python3.7/dist-packages/ipykernel_launcher.py:65: SettingWithCopyWarning: \n",
            "A value is trying to be set on a copy of a slice from a DataFrame\n",
            "\n",
            "See the caveats in the documentation: https://pandas.pydata.org/pandas-docs/stable/user_guide/indexing.html#returning-a-view-versus-a-copy\n",
            "/usr/local/lib/python3.7/dist-packages/ipykernel_launcher.py:67: SettingWithCopyWarning: \n",
            "A value is trying to be set on a copy of a slice from a DataFrame\n",
            "\n",
            "See the caveats in the documentation: https://pandas.pydata.org/pandas-docs/stable/user_guide/indexing.html#returning-a-view-versus-a-copy\n",
            "/usr/local/lib/python3.7/dist-packages/ipykernel_launcher.py:63: SettingWithCopyWarning: \n",
            "A value is trying to be set on a copy of a slice from a DataFrame\n",
            "\n",
            "See the caveats in the documentation: https://pandas.pydata.org/pandas-docs/stable/user_guide/indexing.html#returning-a-view-versus-a-copy\n",
            "/usr/local/lib/python3.7/dist-packages/ipykernel_launcher.py:84: SettingWithCopyWarning: \n",
            "A value is trying to be set on a copy of a slice from a DataFrame\n",
            "\n",
            "See the caveats in the documentation: https://pandas.pydata.org/pandas-docs/stable/user_guide/indexing.html#returning-a-view-versus-a-copy\n",
            "/usr/local/lib/python3.7/dist-packages/ipykernel_launcher.py:82: SettingWithCopyWarning: \n",
            "A value is trying to be set on a copy of a slice from a DataFrame\n",
            "\n",
            "See the caveats in the documentation: https://pandas.pydata.org/pandas-docs/stable/user_guide/indexing.html#returning-a-view-versus-a-copy\n",
            "/usr/local/lib/python3.7/dist-packages/ipykernel_launcher.py:80: SettingWithCopyWarning: \n",
            "A value is trying to be set on a copy of a slice from a DataFrame\n",
            "\n",
            "See the caveats in the documentation: https://pandas.pydata.org/pandas-docs/stable/user_guide/indexing.html#returning-a-view-versus-a-copy\n",
            "/usr/local/lib/python3.7/dist-packages/ipykernel_launcher.py:78: SettingWithCopyWarning: \n",
            "A value is trying to be set on a copy of a slice from a DataFrame\n",
            "\n",
            "See the caveats in the documentation: https://pandas.pydata.org/pandas-docs/stable/user_guide/indexing.html#returning-a-view-versus-a-copy\n",
            "/usr/local/lib/python3.7/dist-packages/ipykernel_launcher.py:76: SettingWithCopyWarning: \n",
            "A value is trying to be set on a copy of a slice from a DataFrame\n",
            "\n",
            "See the caveats in the documentation: https://pandas.pydata.org/pandas-docs/stable/user_guide/indexing.html#returning-a-view-versus-a-copy\n",
            "/usr/local/lib/python3.7/dist-packages/ipykernel_launcher.py:74: SettingWithCopyWarning: \n",
            "A value is trying to be set on a copy of a slice from a DataFrame\n",
            "\n",
            "See the caveats in the documentation: https://pandas.pydata.org/pandas-docs/stable/user_guide/indexing.html#returning-a-view-versus-a-copy\n"
          ],
          "name": "stderr"
        }
      ]
    },
    {
      "cell_type": "code",
      "metadata": {
        "colab": {
          "background_save": true
        },
        "id": "0ch33C2SIiMm"
      },
      "source": [
        "lst1 = []\n",
        "lst1 = clf.predict(np.array(data4))"
      ],
      "execution_count": null,
      "outputs": []
    },
    {
      "cell_type": "code",
      "metadata": {
        "colab": {
          "background_save": true
        },
        "id": "FBM1lZBiz_h1",
        "outputId": "82de8ee2-5fa3-45d1-a6ee-ef41dc38a628"
      },
      "source": [
        "lst1"
      ],
      "execution_count": null,
      "outputs": [
        {
          "output_type": "execute_result",
          "data": {
            "text/plain": [
              "array([108315.98609231,  11324.91319336,   6398.66972109, ...,\n",
              "        77233.41309661, 100159.39124913, 185019.73753453])"
            ]
          },
          "metadata": {
            "tags": []
          },
          "execution_count": 0
        }
      ]
    },
    {
      "cell_type": "code",
      "metadata": {
        "colab": {
          "background_save": true
        },
        "id": "nxRD4LxBMMS0"
      },
      "source": [
        "lst1 = pd.DataFrame(lst1)\n",
        "lst1.to_csv('submission.csv',index = False)"
      ],
      "execution_count": null,
      "outputs": []
    }
  ]
}